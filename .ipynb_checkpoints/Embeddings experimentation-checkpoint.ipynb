{
 "cells": [
  {
   "cell_type": "code",
   "execution_count": 5,
   "id": "3642e9a6",
   "metadata": {},
   "outputs": [],
   "source": [
    "from langchain.embeddings.openai import OpenAIEmbeddings\n",
    "from langchain.text_splitter import RecursiveCharacterTextSplitter\n",
    "from dotenv import load_dotenv"
   ]
  },
  {
   "cell_type": "code",
   "execution_count": 13,
   "id": "676ebf26",
   "metadata": {},
   "outputs": [],
   "source": [
    "load_dotenv()\n",
    "embedding = OpenAIEmbeddings()"
   ]
  },
  {
   "cell_type": "code",
   "execution_count": null,
   "id": "021807d1",
   "metadata": {},
   "outputs": [],
   "source": [
    "sentence1= \"Die Bachelorarbeit hat einen Umfang von 15 LP\"\n",
    "sentence2= \"die bachelorarbeit hat einen umfang von 15 lp\"\n",
    "sentence3= \"die bachelorarbeit hat einen umfang von 15 leistungspunkten\"\n",
    "sentence4= \"was ist der Umfang der Bachelorarbeit?\"\n"
   ]
  },
  {
   "cell_type": "code",
   "execution_count": null,
   "id": "ecf43f3b",
   "metadata": {},
   "outputs": [],
   "source": [
    "embedding1 = embedding.embed_query(sentence1)\n",
    "embedding2 = embedding.embed_query(sentence2)\n",
    "embedding3 = embedding.embed_query(sentence3)\n",
    "embedding4 = embedding.embed_query(sentence4)"
   ]
  },
  {
   "cell_type": "code",
   "execution_count": null,
   "id": "a06c07a0",
   "metadata": {},
   "outputs": [],
   "source": [
    "import numpy as np"
   ]
  },
  {
   "cell_type": "code",
   "execution_count": null,
   "id": "2935ffa6",
   "metadata": {},
   "outputs": [],
   "source": [
    "np.dot(embedding1, embedding2)"
   ]
  },
  {
   "cell_type": "code",
   "execution_count": null,
   "id": "3c15b846",
   "metadata": {},
   "outputs": [],
   "source": [
    "np.dot(embedding2, embedding3)"
   ]
  },
  {
   "cell_type": "code",
   "execution_count": null,
   "id": "85922f93",
   "metadata": {},
   "outputs": [],
   "source": [
    "np.dot(embedding3, embedding4)"
   ]
  },
  {
   "cell_type": "code",
   "execution_count": null,
   "id": "5a1cc8b2",
   "metadata": {},
   "outputs": [],
   "source": [
    "sentence5= \"der bachelorstudiengang hat einen umfang von 180 lp\"\n",
    "embedding5 = embedding.embed_query(sentence5)"
   ]
  },
  {
   "cell_type": "code",
   "execution_count": null,
   "id": "f8ddbb0a",
   "metadata": {},
   "outputs": [],
   "source": [
    "np.dot(embedding3, embedding5)"
   ]
  },
  {
   "cell_type": "code",
   "execution_count": null,
   "id": "e3800a41",
   "metadata": {},
   "outputs": [],
   "source": [
    "#pip install chromadb"
   ]
  },
  {
   "cell_type": "markdown",
   "id": "9ef841b3",
   "metadata": {},
   "source": [
    "### Create Text Chunks "
   ]
  },
  {
   "cell_type": "code",
   "execution_count": 7,
   "id": "f5745a5c",
   "metadata": {},
   "outputs": [],
   "source": [
    "chunk_size = 300\n",
    "chunk_overlap = 50"
   ]
  },
  {
   "cell_type": "code",
   "execution_count": 8,
   "id": "e77d637c",
   "metadata": {},
   "outputs": [],
   "source": [
    "splitter = RecursiveCharacterTextSplitter(chunk_size=chunk_size, chunk_overlap=chunk_overlap )"
   ]
  },
  {
   "cell_type": "code",
   "execution_count": 9,
   "id": "4ea79e8a",
   "metadata": {},
   "outputs": [],
   "source": [
    "text = \"§ 1 Geltungsbereich der Prüfungsordnung; Modulhandbuch und Studienverlaufsplan (1) Diese Prüfungsordnung (PO) regelt das Studium und die Prüfungen im Studiengang Erneuerbare Energien mit dem Abschlussgrad Bachelor of Engineering an der Fachhochschule Köln. (2) Auf der Grundlage dieser Prüfungsordnung erstellt die Fachhochschule Köln einen Studienver-laufsplan (Anhang 1) und ein Modulhandbuch. Das Modulhandbuch beschreibt Inhalt und Aufbau des Studiums unter Berücksichtigung der wissenschaftlichen und hochschuldidaktischen Entwicklung und der Anforderungen der beruflichen Praxis. Der Studienverlaufsplan dient als Empfehlung an die Studierenden für einen sachgerechten Aufbau des Studiums. § 2 Ziel des Studiums; Zweck der Prüfungen; Abschlussgrad (1) Die Bachelorprüfung bildet den ersten berufsqualifizierenden Abschluss des Studiums. (2) Das zum Hochschulgrad Bachelor of Engineering führende Studium (§ 4) soll unter Beachtung der allgemeinen Studienziele (§ 58 HG) den Studierenden auf der Grundlage wissenschaftlicher Erkenntnisse insbesondere die anwendungsbezogenen Inhalte ihres Studienfachs vermitteln. (3) Lehrveranstaltungen können auch in englischer Sprache abgehalten werden. (4) Durch die Modulprüfungen und die Bachelorarbeit (§ 5) soll festgestellt werden, ob die Studieren-den die für eine selbstständige Tätigkeit im Beruf notwendigen Fachkenntnisse erworben haben und be-fähigt sind, auf der Grundlage wissenschaftlicher Erkenntnisse und Methoden selbstständig zu arbeiten. (5) Mit dem Bestehen der in § 5 aufgeführten Prüfungen wird der berufsqualifizierende und wissen-schaftliche Abschluss des Studiums erreicht. Auf Grund der bestandenen Prüfungen wird nach Maßgabe der nachfolgenden Bestimmungen der Hochschulgrad 'Bachelor of Engineering' verliehen.\""
   ]
  },
  {
   "cell_type": "code",
   "execution_count": 10,
   "id": "d25e8bb4",
   "metadata": {},
   "outputs": [],
   "source": [
    "text_chunks = splitter.split_text(text)"
   ]
  },
  {
   "cell_type": "code",
   "execution_count": 12,
   "id": "299aece0",
   "metadata": {},
   "outputs": [
    {
     "data": {
      "text/plain": [
       "'§ 1 Geltungsbereich der Prüfungsordnung; Modulhandbuch und Studienverlaufsplan (1) Diese Prüfungsordnung (PO) regelt das Studium und die Prüfungen im Studiengang Erneuerbare Energien mit dem Abschlussgrad Bachelor of Engineering an der Fachhochschule Köln. (2) Auf der Grundlage dieser'"
      ]
     },
     "execution_count": 12,
     "metadata": {},
     "output_type": "execute_result"
    }
   ],
   "source": [
    "text_chunks[0]"
   ]
  },
  {
   "cell_type": "markdown",
   "id": "abf318f5",
   "metadata": {},
   "source": [
    "### Implement Chroma DB"
   ]
  },
  {
   "cell_type": "code",
   "execution_count": 1,
   "id": "9afd0563",
   "metadata": {},
   "outputs": [],
   "source": [
    "from langchain.vectorstores import Chroma"
   ]
  },
  {
   "cell_type": "code",
   "execution_count": 3,
   "id": "c18e3f5c",
   "metadata": {},
   "outputs": [],
   "source": [
    "persist_directory = 'docs/chroma'"
   ]
  },
  {
   "cell_type": "code",
   "execution_count": 17,
   "id": "badba12a",
   "metadata": {
    "scrolled": true
   },
   "outputs": [
    {
     "ename": "ValueError",
     "evalue": "Could not import chromadb python package. Please install it with `pip install chromadb`.",
     "output_type": "error",
     "traceback": [
      "\u001b[1;31m---------------------------------------------------------------------------\u001b[0m",
      "\u001b[1;31mModuleNotFoundError\u001b[0m                       Traceback (most recent call last)",
      "\u001b[1;32m~\\anaconda3\\lib\\site-packages\\langchain\\vectorstores\\chroma.py\u001b[0m in \u001b[0;36m__init__\u001b[1;34m(self, collection_name, embedding_function, persist_directory, client_settings, collection_metadata, client)\u001b[0m\n\u001b[0;32m     68\u001b[0m         \u001b[1;32mtry\u001b[0m\u001b[1;33m:\u001b[0m\u001b[1;33m\u001b[0m\u001b[1;33m\u001b[0m\u001b[0m\n\u001b[1;32m---> 69\u001b[1;33m             \u001b[1;32mimport\u001b[0m \u001b[0mchromadb\u001b[0m\u001b[1;33m\u001b[0m\u001b[1;33m\u001b[0m\u001b[0m\n\u001b[0m\u001b[0;32m     70\u001b[0m             \u001b[1;32mimport\u001b[0m \u001b[0mchromadb\u001b[0m\u001b[1;33m.\u001b[0m\u001b[0mconfig\u001b[0m\u001b[1;33m\u001b[0m\u001b[1;33m\u001b[0m\u001b[0m\n",
      "\u001b[1;31mModuleNotFoundError\u001b[0m: No module named 'chromadb'",
      "\nDuring handling of the above exception, another exception occurred:\n",
      "\u001b[1;31mValueError\u001b[0m                                Traceback (most recent call last)",
      "\u001b[1;32m~\\AppData\\Local\\Temp/ipykernel_25480/1089648291.py\u001b[0m in \u001b[0;36m<module>\u001b[1;34m\u001b[0m\n\u001b[1;32m----> 1\u001b[1;33m vectordb = Chroma.from_texts(\n\u001b[0m\u001b[0;32m      2\u001b[0m     \u001b[0mtexts\u001b[0m \u001b[1;33m=\u001b[0m \u001b[0mtext_chunks\u001b[0m\u001b[1;33m,\u001b[0m\u001b[1;33m\u001b[0m\u001b[1;33m\u001b[0m\u001b[0m\n\u001b[0;32m      3\u001b[0m     \u001b[0membedding\u001b[0m\u001b[1;33m=\u001b[0m\u001b[0membedding\u001b[0m\u001b[1;33m,\u001b[0m\u001b[1;33m\u001b[0m\u001b[1;33m\u001b[0m\u001b[0m\n\u001b[0;32m      4\u001b[0m     persist_directory=persist_directory)\n",
      "\u001b[1;32m~\\anaconda3\\lib\\site-packages\\langchain\\vectorstores\\chroma.py\u001b[0m in \u001b[0;36mfrom_texts\u001b[1;34m(cls, texts, embedding, metadatas, ids, collection_name, persist_directory, client_settings, client, **kwargs)\u001b[0m\n\u001b[0;32m    394\u001b[0m             \u001b[0mChroma\u001b[0m\u001b[1;33m:\u001b[0m \u001b[0mChroma\u001b[0m \u001b[0mvectorstore\u001b[0m\u001b[1;33m.\u001b[0m\u001b[1;33m\u001b[0m\u001b[1;33m\u001b[0m\u001b[0m\n\u001b[0;32m    395\u001b[0m         \"\"\"\n\u001b[1;32m--> 396\u001b[1;33m         chroma_collection = cls(\n\u001b[0m\u001b[0;32m    397\u001b[0m             \u001b[0mcollection_name\u001b[0m\u001b[1;33m=\u001b[0m\u001b[0mcollection_name\u001b[0m\u001b[1;33m,\u001b[0m\u001b[1;33m\u001b[0m\u001b[1;33m\u001b[0m\u001b[0m\n\u001b[0;32m    398\u001b[0m             \u001b[0membedding_function\u001b[0m\u001b[1;33m=\u001b[0m\u001b[0membedding\u001b[0m\u001b[1;33m,\u001b[0m\u001b[1;33m\u001b[0m\u001b[1;33m\u001b[0m\u001b[0m\n",
      "\u001b[1;32m~\\anaconda3\\lib\\site-packages\\langchain\\vectorstores\\chroma.py\u001b[0m in \u001b[0;36m__init__\u001b[1;34m(self, collection_name, embedding_function, persist_directory, client_settings, collection_metadata, client)\u001b[0m\n\u001b[0;32m     70\u001b[0m             \u001b[1;32mimport\u001b[0m \u001b[0mchromadb\u001b[0m\u001b[1;33m.\u001b[0m\u001b[0mconfig\u001b[0m\u001b[1;33m\u001b[0m\u001b[1;33m\u001b[0m\u001b[0m\n\u001b[0;32m     71\u001b[0m         \u001b[1;32mexcept\u001b[0m \u001b[0mImportError\u001b[0m\u001b[1;33m:\u001b[0m\u001b[1;33m\u001b[0m\u001b[1;33m\u001b[0m\u001b[0m\n\u001b[1;32m---> 72\u001b[1;33m             raise ValueError(\n\u001b[0m\u001b[0;32m     73\u001b[0m                 \u001b[1;34m\"Could not import chromadb python package. \"\u001b[0m\u001b[1;33m\u001b[0m\u001b[1;33m\u001b[0m\u001b[0m\n\u001b[0;32m     74\u001b[0m                 \u001b[1;34m\"Please install it with `pip install chromadb`.\"\u001b[0m\u001b[1;33m\u001b[0m\u001b[1;33m\u001b[0m\u001b[0m\n",
      "\u001b[1;31mValueError\u001b[0m: Could not import chromadb python package. Please install it with `pip install chromadb`."
     ]
    }
   ],
   "source": [
    "vectordb = Chroma.from_texts(\n",
    "    texts = text_chunks,\n",
    "    embedding=embedding,\n",
    "    persist_directory=persist_directory)"
   ]
  },
  {
   "cell_type": "code",
   "execution_count": 18,
   "id": "e5ebe557",
   "metadata": {
    "scrolled": false
   },
   "outputs": [
    {
     "name": "stdout",
     "output_type": "stream",
     "text": [
      "Collecting chromadb\n",
      "  Using cached chromadb-0.3.26-py3-none-any.whl (123 kB)\n",
      "Collecting posthog>=2.4.0\n",
      "  Using cached posthog-3.0.1-py2.py3-none-any.whl (37 kB)\n",
      "Collecting hnswlib>=0.7\n",
      "  Using cached hnswlib-0.7.0.tar.gz (33 kB)\n",
      "  Installing build dependencies: started\n",
      "  Installing build dependencies: finished with status 'done'\n",
      "  Getting requirements to build wheel: started\n",
      "  Getting requirements to build wheel: finished with status 'done'\n",
      "    Preparing wheel metadata: started\n",
      "    Preparing wheel metadata: finished with status 'done'\n",
      "Collecting duckdb>=0.7.1\n",
      "  Using cached duckdb-0.8.1-cp39-cp39-win_amd64.whl (9.8 MB)\n",
      "Collecting overrides>=7.3.1\n",
      "  Using cached overrides-7.3.1-py3-none-any.whl (17 kB)\n",
      "Requirement already satisfied: tokenizers>=0.13.2 in c:\\users\\arne\\anaconda3\\lib\\site-packages (from chromadb) (0.13.3)\n",
      "Collecting pulsar-client>=3.1.0\n",
      "  Using cached pulsar_client-3.2.0-cp39-cp39-win_amd64.whl (3.4 MB)\n",
      "Requirement already satisfied: typing-extensions>=4.5.0 in c:\\users\\arne\\anaconda3\\lib\\site-packages (from chromadb) (4.6.3)\n",
      "Collecting requests>=2.28\n",
      "  Using cached requests-2.31.0-py3-none-any.whl (62 kB)\n",
      "Collecting onnxruntime>=1.14.1\n",
      "  Using cached onnxruntime-1.15.1-cp39-cp39-win_amd64.whl (6.7 MB)\n",
      "Collecting clickhouse-connect>=0.5.7\n",
      "  Using cached clickhouse_connect-0.6.5-cp39-cp39-win_amd64.whl (228 kB)\n",
      "Collecting fastapi>=0.85.1\n",
      "  Using cached fastapi-0.99.1-py3-none-any.whl (58 kB)\n",
      "Collecting numpy>=1.21.6\n",
      "  Using cached numpy-1.25.0-cp39-cp39-win_amd64.whl (15.1 MB)\n",
      "Collecting uvicorn[standard]>=0.18.3\n",
      "  Using cached uvicorn-0.22.0-py3-none-any.whl (58 kB)\n",
      "Collecting tqdm>=4.65.0\n",
      "  Using cached tqdm-4.65.0-py3-none-any.whl (77 kB)\n",
      "Requirement already satisfied: pandas>=1.3 in c:\\users\\arne\\anaconda3\\lib\\site-packages (from chromadb) (1.3.4)\n",
      "Requirement already satisfied: pydantic>=1.9 in c:\\users\\arne\\anaconda3\\lib\\site-packages (from chromadb) (1.10.9)\n",
      "Requirement already satisfied: pytz in c:\\users\\arne\\anaconda3\\lib\\site-packages (from clickhouse-connect>=0.5.7->chromadb) (2021.3)\n",
      "Collecting zstandard\n",
      "  Using cached zstandard-0.21.0-cp39-cp39-win_amd64.whl (660 kB)\n",
      "Collecting lz4\n",
      "  Using cached lz4-4.3.2-cp39-cp39-win_amd64.whl (99 kB)\n",
      "Requirement already satisfied: urllib3>=1.26 in c:\\users\\arne\\anaconda3\\lib\\site-packages (from clickhouse-connect>=0.5.7->chromadb) (1.26.7)\n",
      "Requirement already satisfied: importlib-metadata in c:\\users\\arne\\anaconda3\\lib\\site-packages (from clickhouse-connect>=0.5.7->chromadb) (4.8.1)\n",
      "Requirement already satisfied: certifi in c:\\users\\arne\\anaconda3\\lib\\site-packages (from clickhouse-connect>=0.5.7->chromadb) (2022.12.7)\n",
      "Collecting starlette<0.28.0,>=0.27.0\n",
      "  Using cached starlette-0.27.0-py3-none-any.whl (66 kB)\n",
      "Requirement already satisfied: protobuf in c:\\users\\arne\\anaconda3\\lib\\site-packages (from onnxruntime>=1.14.1->chromadb) (3.20.3)\n",
      "Requirement already satisfied: packaging in c:\\users\\arne\\anaconda3\\lib\\site-packages (from onnxruntime>=1.14.1->chromadb) (21.0)\n",
      "Collecting flatbuffers\n",
      "  Using cached flatbuffers-23.5.26-py2.py3-none-any.whl (26 kB)\n",
      "Requirement already satisfied: sympy in c:\\users\\arne\\anaconda3\\lib\\site-packages (from onnxruntime>=1.14.1->chromadb) (1.9)\n",
      "Collecting coloredlogs\n",
      "  Using cached coloredlogs-15.0.1-py2.py3-none-any.whl (46 kB)\n",
      "Requirement already satisfied: python-dateutil>=2.7.3 in c:\\users\\arne\\anaconda3\\lib\\site-packages (from pandas>=1.3->chromadb) (2.8.2)\n",
      "Collecting monotonic>=1.5\n",
      "  Using cached monotonic-1.6-py2.py3-none-any.whl (8.2 kB)\n",
      "Requirement already satisfied: six>=1.5 in c:\\users\\arne\\anaconda3\\lib\\site-packages (from posthog>=2.4.0->chromadb) (1.16.0)\n",
      "Collecting backoff>=1.10.0\n",
      "  Using cached backoff-2.2.1-py3-none-any.whl (15 kB)\n",
      "Requirement already satisfied: idna<4,>=2.5 in c:\\users\\arne\\anaconda3\\lib\\site-packages (from requests>=2.28->chromadb) (3.4)\n",
      "Requirement already satisfied: charset-normalizer<4,>=2 in c:\\users\\arne\\anaconda3\\lib\\site-packages (from requests>=2.28->chromadb) (2.0.7)\n",
      "Collecting anyio<5,>=3.4.0\n",
      "  Using cached anyio-3.7.1-py3-none-any.whl (80 kB)\n",
      "Collecting exceptiongroup\n",
      "  Using cached exceptiongroup-1.1.2-py3-none-any.whl (14 kB)\n",
      "Requirement already satisfied: sniffio>=1.1 in c:\\users\\arne\\anaconda3\\lib\\site-packages (from anyio<5,>=3.4.0->starlette<0.28.0,>=0.27.0->fastapi>=0.85.1->chromadb) (1.2.0)\n",
      "Requirement already satisfied: colorama in c:\\users\\arne\\anaconda3\\lib\\site-packages (from tqdm>=4.65.0->chromadb) (0.4.4)\n",
      "Collecting h11>=0.8\n",
      "  Using cached h11-0.14.0-py3-none-any.whl (58 kB)\n",
      "Requirement already satisfied: click>=7.0 in c:\\users\\arne\\anaconda3\\lib\\site-packages (from uvicorn[standard]>=0.18.3->chromadb) (8.0.3)\n",
      "Requirement already satisfied: python-dotenv>=0.13 in c:\\users\\arne\\anaconda3\\lib\\site-packages (from uvicorn[standard]>=0.18.3->chromadb) (0.19.2)\n",
      "Collecting httptools>=0.5.0\n",
      "  Using cached httptools-0.6.0-cp39-cp39-win_amd64.whl (147 kB)\n",
      "Requirement already satisfied: pyyaml>=5.1 in c:\\users\\arne\\anaconda3\\lib\\site-packages (from uvicorn[standard]>=0.18.3->chromadb) (6.0)\n",
      "Collecting websockets>=10.4\n",
      "  Using cached websockets-11.0.3-cp39-cp39-win_amd64.whl (124 kB)\n",
      "Collecting watchfiles>=0.13\n",
      "  Using cached watchfiles-0.19.0-cp37-abi3-win_amd64.whl (270 kB)\n",
      "Collecting humanfriendly>=9.1\n",
      "  Using cached humanfriendly-10.0-py2.py3-none-any.whl (86 kB)\n",
      "Collecting pyreadline3\n",
      "  Using cached pyreadline3-3.4.1-py3-none-any.whl (95 kB)\n",
      "Requirement already satisfied: zipp>=0.5 in c:\\users\\arne\\anaconda3\\lib\\site-packages (from importlib-metadata->clickhouse-connect>=0.5.7->chromadb) (3.6.0)\n",
      "Requirement already satisfied: pyparsing>=2.0.2 in c:\\users\\arne\\anaconda3\\lib\\site-packages (from packaging->onnxruntime>=1.14.1->chromadb) (3.0.4)\n",
      "Requirement already satisfied: mpmath>=0.19 in c:\\users\\arne\\anaconda3\\lib\\site-packages (from sympy->onnxruntime>=1.14.1->chromadb) (1.2.1)\n",
      "Building wheels for collected packages: hnswlib\n",
      "  Building wheel for hnswlib (PEP 517): started\n",
      "  Building wheel for hnswlib (PEP 517): finished with status 'error'\n",
      "Failed to build hnswlib\n"
     ]
    },
    {
     "name": "stderr",
     "output_type": "stream",
     "text": [
      "  ERROR: Command errored out with exit status 1:\n",
      "   command: 'C:\\Users\\Arne\\anaconda3\\python.exe' 'C:\\Users\\Arne\\anaconda3\\lib\\site-packages\\pip\\_vendor\\pep517\\in_process\\_in_process.py' build_wheel 'C:\\Users\\Arne\\AppData\\Local\\Temp\\tmpk0g27j_s'\n",
      "       cwd: C:\\Users\\Arne\\AppData\\Local\\Temp\\pip-install-8fpp6ldm\\hnswlib_6747e53f420e49cfb50ef8981babfbe2\n",
      "  Complete output (5 lines):\n",
      "  running bdist_wheel\n",
      "  running build\n",
      "  running build_ext\n",
      "  building 'hnswlib' extension\n",
      "  error: Microsoft Visual C++ 14.0 or greater is required. Get it with \"Microsoft C++ Build Tools\": https://visualstudio.microsoft.com/visual-cpp-build-tools/\n",
      "  ----------------------------------------\n",
      "  ERROR: Failed building wheel for hnswlib\n",
      "ERROR: Could not build wheels for hnswlib which use PEP 517 and cannot be installed directly\n"
     ]
    }
   ],
   "source": [
    "!pip install chromadb"
   ]
  },
  {
   "cell_type": "code",
   "execution_count": 19,
   "id": "e99542a0",
   "metadata": {},
   "outputs": [
    {
     "name": "stdout",
     "output_type": "stream",
     "text": [
      "^C\n",
      "\n",
      "Note: you may need to restart the kernel to use updated packages.\n"
     ]
    }
   ],
   "source": []
  },
  {
   "cell_type": "code",
   "execution_count": null,
   "id": "3a2c599a",
   "metadata": {},
   "outputs": [],
   "source": []
  }
 ],
 "metadata": {
  "kernelspec": {
   "display_name": "Python 3 (ipykernel)",
   "language": "python",
   "name": "python3"
  },
  "language_info": {
   "codemirror_mode": {
    "name": "ipython",
    "version": 3
   },
   "file_extension": ".py",
   "mimetype": "text/x-python",
   "name": "python",
   "nbconvert_exporter": "python",
   "pygments_lexer": "ipython3",
   "version": "3.9.7"
  }
 },
 "nbformat": 4,
 "nbformat_minor": 5
}
