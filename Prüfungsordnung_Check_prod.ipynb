{
 "cells": [
  {
   "cell_type": "markdown",
   "id": "c34d22cd",
   "metadata": {},
   "source": [
    "# Parsing documents for higher education Quality Assurance"
   ]
  },
  {
   "cell_type": "markdown",
   "id": "9659e22f",
   "metadata": {},
   "source": [
    "### Brief Introduction to Higher Education Quality Assurance in Germany\n",
    "\n",
    "Accreditation is a requirement of the German higher education system by which study programs and higher education institutions (HEIs) regularly undergo quality checks through external specialised agencies:\n",
    "\n",
    "* the objective is to to ensure conformity with state-level higher education regulations. \n",
    "* these regulations include formal, objective requirements, pertaining for example to:\n",
    "\n",
    "    - the length of degree programs\n",
    "    - the degree types which can be awarded\n",
    "    - the structure of the degree programs\n",
    "    - the proper usage of the European Credit Transfer System (ECTS)\n",
    "    - transparency of information\n",
    "    - cooperation with other institutions\n",
    "    \n",
    "An example of one such regulation:\n",
    "\n",
    "    \"The standard periods of study for full-time study are six, seven or eight semesters for bachelor's programs and four, three or two semesters for master's programs. For bachelor's degree programs, the standard period of study for full-time study is at least three years. For consecutive degree programs, the total standard period of full-time study is five years (ten semesters).\" (Source: Musterrechtsverordnung, Stiftung Akkreditierungsrat)\n",
    "\n",
    "#### Current quality assurance procedure\n",
    "To determine whether or not these formal criteria are met, auditors review the official documentation provided by the higher education institution. This documentation typically includes the syllabus, the examination regulations (_Prüfungsordnung_), the Module Catalog (_Modulhandbuch_) and a variety of other documents. Subsequently, auditors summarize their findings in the official Accreditation Report, which is submitted to the German Accreditation Board.\n",
    "\n",
    "Essentially, this part of the procedure is a simple search and check exercise which, however, due to the often vast amounts of documentation provided, can be tedious to complete. Formal HEI documentation is seldomly structured in a manner conducive to auditing, and can significantly differ in terms of structure and content from one institution to the next. \n",
    "\n",
    "#### Project Objective\n",
    "\n",
    "The goal of this project is therefore to parse formal HEI documents, check them for content relevant to the official formal criteria, and to - with the help of a Large Language Model (LLM) - summarize the findings in a manner so that they can be copy-pasted into the Accreditation Report. At the same time, we want to determine whether this is a viable approach in terms of costs.\n",
    "\n",
    "While there are presumably multiple use-cases for LLMs in the context of accreditation, the one described above may be among the simplest ones to achieve, also because data samples in the form of formal documents published on German HEI websites are readily available. "
   ]
  },
  {
   "cell_type": "markdown",
   "id": "f5ff7c94",
   "metadata": {},
   "source": [
    "### Toolkit\n",
    "\n",
    "the tools used will include:\n",
    "\n",
    "* a PDF reader: almost all documentation for accreditation procedures is submitted in PDF format\n",
    "* Langchain: a library which simplifies working with LLMs. It includes:\n",
    "    - OpenAI Embeddings: fast embeddings API which charges a small amount per submitted token.\n",
    "    - Huggingface Embeddings: for comparison we are also testing this free and high quality embeddings tool, although it takes up to 30x longer when run on a regular CPU.\n",
    "* OpenAI GPT API: for accessing the GPT LLM \n",
    "* tiktoken: for converting text to tokens in order to estimate costs prior to embedding.\n",
    "* Streamlit: a library for creating a simple user interface.\n"
   ]
  },
  {
   "cell_type": "markdown",
   "id": "60d9c2a3",
   "metadata": {},
   "source": [
    "## Import libraries"
   ]
  },
  {
   "cell_type": "code",
   "execution_count": 1,
   "id": "1819e0d2",
   "metadata": {},
   "outputs": [
    {
     "name": "stderr",
     "output_type": "stream",
     "text": [
      "C:\\Users\\Arne\\anaconda3\\lib\\site-packages\\numpy\\_distributor_init.py:30: UserWarning: loaded more than 1 DLL from .libs:\n",
      "C:\\Users\\Arne\\anaconda3\\lib\\site-packages\\numpy\\.libs\\libopenblas.FB5AE2TYXYH2IJRDKGDGQ3XBKLKTF43H.gfortran-win_amd64.dll\n",
      "C:\\Users\\Arne\\anaconda3\\lib\\site-packages\\numpy\\.libs\\libopenblas.XWYDX2IKJW2NMTWSFYNGFUWKQU3LYTCZ.gfortran-win_amd64.dll\n",
      "  warnings.warn(\"loaded more than 1 DLL from .libs:\"\n"
     ]
    }
   ],
   "source": [
    "from PyPDF2 import PdfReader\n",
    "import openai\n",
    "import json\n",
    "from dotenv import load_dotenv\n",
    "import tiktoken\n",
    "\n",
    "# import langchain tools\n",
    "from langchain.text_splitter import RecursiveCharacterTextSplitter\n",
    "from langchain.embeddings import OpenAIEmbeddings\n",
    "from langchain.vectorstores import FAISS                # Facebook AI Similarity Search - vectors are stored on machine - will be deleted once application is closed\n",
    "from langchain.memory import ConversationBufferMemory\n",
    "from langchain.chains import ConversationalRetrievalChain, RetrievalQA, LLMChain, HypotheticalDocumentEmbedder\n",
    "from langchain.chat_models import ChatOpenAI\n",
    "from langchain.llms import OpenAI\n",
    "from langchain.prompts import PromptTemplate"
   ]
  },
  {
   "cell_type": "markdown",
   "id": "1a8adc7d",
   "metadata": {},
   "source": [
    "## Create functions"
   ]
  },
  {
   "cell_type": "markdown",
   "id": "3a1178d6",
   "metadata": {},
   "source": [
    "### PDF text extraction functions"
   ]
  },
  {
   "cell_type": "markdown",
   "id": "309250ec",
   "metadata": {},
   "source": [
    "#### PDFMiner \n",
    "docs: https://github.com/euske/pdfminer/blob/master/pdfminer/pdfpage.py"
   ]
  },
  {
   "cell_type": "code",
   "execution_count": 2,
   "id": "8772dbb5",
   "metadata": {},
   "outputs": [],
   "source": [
    "# use PDF Miner\n",
    "import io \n",
    "from pdfminer.converter import TextConverter \n",
    "from pdfminer.pdfinterp import PDFPageInterpreter \n",
    "from pdfminer.pdfinterp import PDFResourceManager \n",
    "from pdfminer.pdfpage import PDFPage \n",
    "\n",
    "\n",
    "def extract_text_by_page(pdf_path): \n",
    "\n",
    "    with open(pdf_path, 'rb') as fh: \n",
    "        \n",
    "        for page in PDFPage.get_pages(fh, \n",
    "                                    caching=True, \n",
    "                                    check_extractable=True): \n",
    "            \n",
    "            resource_manager = PDFResourceManager() \n",
    "\n",
    "            fake_file_handle = io.StringIO() \n",
    "            \n",
    "            converter = TextConverter(resource_manager, \n",
    "                                    fake_file_handle) \n",
    "            \n",
    "            page_interpreter = PDFPageInterpreter(resource_manager, \n",
    "                                                converter) \n",
    "            \n",
    "            page_interpreter.process_page(page) \n",
    "            text = fake_file_handle.getvalue() \n",
    "            \n",
    "            yield text \n",
    "            \n",
    "            # close open handles \n",
    "            converter.close() \n",
    "            fake_file_handle.close() \n",
    "        "
   ]
  },
  {
   "cell_type": "code",
   "execution_count": 3,
   "id": "17002fa8",
   "metadata": {},
   "outputs": [],
   "source": [
    "# text extracted via PDFminer still has hyphens from line-breaks, therefore we create another function\n",
    "\n",
    "import re\n",
    "\n",
    "def replace_hyphens(text):\n",
    "    pattern = r'([a-z])-([a-z])'  # Pattern to match 'lowercase letter - lowercase letter'\n",
    "    replacement = r'\\1\\2'         # Replacement pattern is equivalent to ''\n",
    "    \n",
    "    # Find all matches of the pattern in the text\n",
    "    matches = re.findall(pattern, text)\n",
    "    \n",
    "    # Iterate over the matches and replace the hyphen-separated lowercase letters\n",
    "    for match in matches:\n",
    "        text = text.replace(f'{match[0]}-{match[1]}', f'{match[0]}{match[1]}')\n",
    "            \n",
    "    return text"
   ]
  },
  {
   "cell_type": "code",
   "execution_count": 4,
   "id": "045c29a0",
   "metadata": {},
   "outputs": [],
   "source": [
    "# split text into chunks\n",
    "def get_text_chunks(text):\n",
    "    \n",
    "    text_splitter = RecursiveCharacterTextSplitter(\n",
    "        #separator= \"\\n\",\n",
    "        chunk_size= 1000,\n",
    "        chunk_overlap= 200,\n",
    "        length_function= len\n",
    "    )\n",
    "    chunks= text_splitter.split_text(text)\n",
    "    \n",
    "    return chunks"
   ]
  },
  {
   "cell_type": "code",
   "execution_count": 5,
   "id": "c93147c7",
   "metadata": {},
   "outputs": [],
   "source": [
    "# get number of tokens which will be submitted for embedding as well as price\n",
    "def get_nr_of_tokens_and_price(chunks, price_per_1k_tokens):\n",
    "    \n",
    "    '''takes as arguments chunks created via previous function as well as price which can be researched on OpenAI website\n",
    "    (https://openai.com/pricing)'''\n",
    "    \n",
    "    nr_tokens = 0\n",
    "    \n",
    "    for chunk in chunks:\n",
    "        enc = tiktoken.get_encoding(\"p50k_base\")\n",
    "        chunk_tokens = enc.encode(chunk)\n",
    "        nr_tokens += len(chunk_tokens)\n",
    "        \n",
    "    price = round((nr_tokens / 1000) * price_per_1k_tokens, 4)\n",
    "        \n",
    "    return nr_tokens, price"
   ]
  },
  {
   "cell_type": "markdown",
   "id": "dc0df6fd",
   "metadata": {},
   "source": [
    "### Functions for creating Vector Stores"
   ]
  },
  {
   "cell_type": "code",
   "execution_count": 6,
   "id": "56cd818f",
   "metadata": {},
   "outputs": [],
   "source": [
    "# create normal and Hypothetical Document Embedding (HyDE) vector stores\n",
    "def get_vectorstore(text_chunks, create_hyde_store= True):\n",
    "    \n",
    "    # setup normal vector store\n",
    "#     if response == '1':\n",
    "    embeddings = OpenAIEmbeddings()\n",
    "    vectorstore = FAISS.from_texts(text_chunks, embedding= embeddings) \n",
    "        \n",
    "        # setup HyDE vector store\n",
    "    if create_hyde_store:\n",
    "        llm = OpenAI(temperature= 0)\n",
    "        embeddings_hyde = HypotheticalDocumentEmbedder.from_llm(llm, embeddings, \"web_search\")\n",
    "        vectorstore_hyde = FAISS.from_texts(text_chunks, embedding= embeddings_hyde) \n",
    "    \n",
    "    print('EMBEDDING COMPLETED!')\n",
    "    \n",
    "    return vectorstore, vectorstore_hyde\n",
    "    "
   ]
  },
  {
   "cell_type": "code",
   "execution_count": 7,
   "id": "2320b265",
   "metadata": {},
   "outputs": [],
   "source": [
    "def check_embeddings_with_user():\n",
    "    \n",
    "    # get price estimate\n",
    "    price_per_1k_tokens = 0.0001\n",
    "    nr_tokens, price = get_nr_of_tokens_and_price(text_chunks, price_per_1k_tokens)\n",
    "\n",
    "    # communicate price of embedding and check with user if they want to proceed\n",
    "    response = input(\n",
    "        f'''The submitted text files have a length of {len(cleaned_text)} characters equivalent to {nr_tokens} tokens. \n",
    "\n",
    "    We can quickly embed these tokens for a total price of US$ {price} (rounded to 4 decimals). \n",
    "    Type '1' if you want to proceed with paid embedding. \n",
    "    Typing anything else will result in no action.\\n''')\n",
    "\n",
    "    if response == '1':\n",
    "        create_store = True\n",
    "        hyde_response = input(\n",
    "    '''\\nType \"1\" again if you also want a HyDE vector store (NOTE: this will double the embedding cost)\\nTyping anything else will result in only a normal vector store being created\\n\\n''')\n",
    "\n",
    "        if hyde_response == '1':\n",
    "            create_hyde = True\n",
    "        else:\n",
    "            create_hyde = False\n",
    "    else:\n",
    "        create_store = False\n",
    "    \n",
    "    return create_store, create_hyde"
   ]
  },
  {
   "cell_type": "markdown",
   "id": "a8c1b1a9",
   "metadata": {},
   "source": [
    "### Functions for Key Word Identification"
   ]
  },
  {
   "cell_type": "code",
   "execution_count": 8,
   "id": "64ff8a12",
   "metadata": {},
   "outputs": [],
   "source": [
    "def count_key_words(text, word):\n",
    "    word_count = text.lower().count(word)\n",
    "    return word_count"
   ]
  },
  {
   "cell_type": "code",
   "execution_count": 9,
   "id": "d500d02d",
   "metadata": {},
   "outputs": [],
   "source": [
    "def get_preferred_terms(text, term_dict= {\n",
    "    \"fin_proj_terms\" : [\"abschlussarbeit\", \"bachelorarbeit\", \"masterarbeit\"],\n",
    "    \"creditpoint_terms\" : [\"kreditpunkte\", \"leistungspunkte\", \"ects-punkte\", \"ects punkte\", \" lp \"],\n",
    "    \"degree_level\": [\"bachelorstudiengang\", \"masterstudiengang\"],\n",
    "    \"degree_designation\" : [\"hochschulgrad\", \"abschlussgrad\", \"akademische Grad\"]}\n",
    "                          ):\n",
    "    \n",
    "    preferred_terms_dict = {}\n",
    "\n",
    "    for x in term_dict:\n",
    "        # get list of terms for category, e.g. \"fin_proj_terms\"\n",
    "        term_list = term_dict[x]\n",
    "\n",
    "        # get word count for each term in the list and add to new dict\n",
    "        term_count_dict = {word:count_key_words(text, word) for word in term_list}\n",
    "\n",
    "        # get term with highest occurence\n",
    "        max_key = max(term_count_dict, key= term_count_dict.get)\n",
    "    #     max_value = max(term_count_dict.values())\n",
    "    \n",
    "        preferred_terms_dict[x] = max_key\n",
    "    #     preferred_terms_dict[x] = {max_key: max_value}\n",
    "\n",
    "    return preferred_terms_dict"
   ]
  },
  {
   "cell_type": "markdown",
   "id": "f60ec3dd",
   "metadata": {},
   "source": [
    "## PDF Upload and Text Split"
   ]
  },
  {
   "cell_type": "code",
   "execution_count": 10,
   "id": "0a30b111",
   "metadata": {},
   "outputs": [],
   "source": [
    "# Load environment variables\n",
    "load_dotenv()\n",
    "\n",
    "file_path = '/Users/Arne/Downloads/Prüfungsordnungen/KIT_Ba_Informatik.pdf'\n",
    "\n",
    "# extract individual pages\n",
    "doc = extract_text_by_page(file_path)\n",
    "pages = [page for page in doc]\n",
    "\n",
    "# besides replacing hyphens we replace a string automatically added by PDFminer\n",
    "cleaned_pages = [replace_hyphens(page).replace(\"\\x0c\", \"\") for page in pages]\n",
    "\n",
    "cleaned_text = ''.join(cleaned_pages)\n",
    "\n",
    "# get text chunks\n",
    "text_chunks = get_text_chunks(cleaned_text)\n"
   ]
  },
  {
   "cell_type": "code",
   "execution_count": 11,
   "id": "98717688",
   "metadata": {},
   "outputs": [
    {
     "name": "stdout",
     "output_type": "stream",
     "text": [
      "Amtliche Bekanntmachung     Die Forschungsuniversität in der Helmholtz-Gemeinschaft 2022  Ausgegeben Karlsruhe, den 10. Mai 2022 Nr. 34             I n h a l t Seite    Studien- und Prüfungsordnung des Karlsruher Instituts 215  für Technologie (KIT) für den Bachelorstudiengang  Informatik                   215   Studien- und Prüfungsordnung des Karlsruher Instituts für Technologie (KIT) für den Bachelorstudiengang Informatik  vom 10. Mai 2022  Aufgrund von § 10 Absatz 2 Ziff. 4 und § 20 Absatz 2 des Gesetzes über das Karlsruher Institut für Technologie (KIT-Gesetz - KITG) in der Fassung vom 14. Juli 2009 (GBl. S. 317 f), zuletzt geändert durch Artikel 2 des Gesetzes zur Änderung des Landeshochschulgesetzes und anderer Gesetze vom 26. Oktober 2021 (GBL. S. 941), und § 32 Absatz 3 Satz 1 des Gesetzes über die Hochschulen in Baden-Württemberg (Landeshochschulgesetz - LHG) in der Fassung vom 1. Januar 2005 zuletzt geändert durch Artikel 7 der Zehnten Verordnung des Innenministeriums\n"
     ]
    }
   ],
   "source": [
    "print(text_chunks[0])"
   ]
  },
  {
   "cell_type": "markdown",
   "id": "fc1af173",
   "metadata": {},
   "source": [
    "## Setup Vector Stores"
   ]
  },
  {
   "cell_type": "code",
   "execution_count": 12,
   "id": "886820a3",
   "metadata": {},
   "outputs": [
    {
     "name": "stdout",
     "output_type": "stream",
     "text": [
      "The submitted text files have a length of 51608 characters equivalent to 25220 tokens. \n",
      "\n",
      "    We can quickly embed these tokens for a total price of US$ 0.0025 (rounded to 4 decimals). \n",
      "    Type '1' if you want to proceed with paid embedding. \n",
      "    Typing anything else will result in no action.\n",
      "1\n",
      "\n",
      "Type \"1\" again if you also want a HyDE vector store (NOTE: this will double the embedding cost)\n",
      "Typing anything else will result in only a normal vector store being created\n",
      "\n",
      "1\n",
      "Returning  True True\n",
      "EMBEDDING COMPLETED!\n"
     ]
    }
   ],
   "source": [
    "create_store, create_hyde = check_embeddings_with_user()\n",
    "print(\"Returning \", create_store, create_hyde)\n",
    "\n",
    "if create_store:\n",
    "    vector_store, vector_store_hyde = get_vectorstore(text_chunks, create_hyde_store= create_hyde)\n",
    "else:\n",
    "    exit()"
   ]
  },
  {
   "cell_type": "markdown",
   "id": "a1c99e92",
   "metadata": {},
   "source": [
    "## Identify key terms\n",
    "\n",
    "The document retrieval chain is sensitive to terminology - small differences in the submitted prompts, for example using the abbreviation \"LP\" for \"Leistungspunkte\" (or in English: using \"CP\" to refer to \"credit points\"), can generate very different results. We therefore first parse the text to identify the HEI-specific terminology for areas that are key to the analysis, in order to optimize the prompts."
   ]
  },
  {
   "cell_type": "code",
   "execution_count": 21,
   "id": "aaacb130",
   "metadata": {},
   "outputs": [
    {
     "data": {
      "text/plain": [
       "{'fin_proj_terms': 'bachelorarbeit',\n",
       " 'creditpoint_terms': 'leistungspunkt',\n",
       " 'degree_level': 'bachelorstudiengang',\n",
       " 'degree_designation': 'hochschulgrad'}"
      ]
     },
     "execution_count": 21,
     "metadata": {},
     "output_type": "execute_result"
    }
   ],
   "source": [
    "# the following dict can be edited\n",
    "term_dict = {\"fin_proj_terms\" : [\"abschlussarbeit\", \"bachelorarbeit\", \"masterarbeit\", \"doktorarbeit\"],\n",
    "             \"creditpoint_terms\" : [\"kreditpunkt\", \"leistungspunkt\", \"ects-punkt\", \"ects punkt\", \" lp \"],\n",
    "             \"degree_level\": [\"bachelorstudiengang\", \"masterstudiengang\", \"phd\"],\n",
    "             \"degree_designation\" : [\"hochschulgrad\", \"abschlussgrad\", \"akademische Grad\"]\n",
    "            }\n",
    "\n",
    "preferred_terms = get_preferred_terms(cleaned_text, term_dict) # term_dict is an optional argument (default is included in function)\n",
    "\n",
    "preferred_terms"
   ]
  },
  {
   "cell_type": "markdown",
   "id": "fa4b67f5",
   "metadata": {},
   "source": [
    "### Adjust prompts"
   ]
  },
  {
   "cell_type": "code",
   "execution_count": 22,
   "id": "8d1b197c",
   "metadata": {},
   "outputs": [
    {
     "data": {
      "text/plain": [
       "['Was ist die Regelstudienzeit des Studiengangs? Welche Ausnahmen gibt es?',\n",
       " 'Wieviele leistungspunkte umfasst der Studiengang?',\n",
       " \"Was ist der Umfang der bachelorarbeit, bzw. wieviele leistungspunkte umfasst die bachelorarbeit? welchen umfang hat das modul 'bachelorarbeit'?\",\n",
       " \"Welcher akademische Grad wird verliehen? (z.B. 'bachelor of Science', 'bachelor of Arts' oder 'bachelor of Engineering')\",\n",
       " 'Wie sind die Zugangsvoraussetzungen für den Studiengang?',\n",
       " 'Wieviele Arbeitsstunden sind in einem leistungspunkt enthalten?',\n",
       " 'In wiefern werden ein Diploma Supplement und ein Zeugnis und ein Transcript of Records ausgestellt?']"
      ]
     },
     "execution_count": 22,
     "metadata": {},
     "output_type": "execute_result"
    }
   ],
   "source": [
    "if \"bachelor\" in preferred_terms['degree_level']:\n",
    "    degree= \"bachelor\"\n",
    "elif \"master\" in preferred_terms['degree_level']:\n",
    "    degree= \"master\"\n",
    "else:\n",
    "    degree= \"\"\n",
    "\n",
    "prompts = [\"Was ist die Regelstudienzeit des Studiengangs? Welche Ausnahmen gibt es?\", \n",
    "           f\"Wieviele {preferred_terms['creditpoint_terms']}e umfasst der Studiengang?\",\n",
    "           f'''Was ist der Umfang der {preferred_terms['fin_proj_terms']}, bzw. wieviele {preferred_terms['creditpoint_terms']}e umfasst die {preferred_terms['fin_proj_terms']}? welchen umfang hat das modul '{preferred_terms[\"fin_proj_terms\"]}'?''',\n",
    "           f\"Welcher akademische Grad wird verliehen? (z.B. '{degree} of Science', '{degree} of Arts' oder '{degree} of Engineering')\",\n",
    "           \"Wie sind die Zugangsvoraussetzungen für den Studiengang?\",\n",
    "           f\"Wieviele Arbeitsstunden sind in einem {preferred_terms['creditpoint_terms']} enthalten?\",\n",
    "           \"In wiefern werden ein Diploma Supplement und ein Zeugnis und ein Transcript of Records ausgestellt?\"\n",
    "          ]\n",
    "\n",
    "if degree == 'master':\n",
    "    prompts.append(\"Ist der Masterstudiengang konsekutiv oder weiterbildend?\")\n",
    "\n",
    "prompts"
   ]
  },
  {
   "cell_type": "markdown",
   "id": "10b97010",
   "metadata": {},
   "source": [
    "## Setup Retrieval Chains\n",
    "This sets up a chain which can take user queries as an input. The queries are embedded and similar documents are retrieved from the vector store. The LLM then formulates an answer based on the retrieved text chunks.\n",
    "\n",
    "In the case of the HyDE chain, the user query and the LLM are used to create a Hypothetical answer to the query. For example:\n",
    "\n",
    "- User query: \"What did the president say about relations with Indonesia?\"\n",
    "- Hypothetical answer generated by LLM: \"The president said that U.S. relations with Indonesia have grown closer and closer.\"\n",
    "\n",
    "This hypothetical answer is then embedded and submitted to the vector store INSTEAD OF (or in addition to?) THE USER QUERY in order to retrieve relevant documents. This can result in a much better match."
   ]
  },
  {
   "cell_type": "code",
   "execution_count": null,
   "id": "7df1f94e",
   "metadata": {},
   "outputs": [],
   "source": [
    "llm = OpenAI(temperature= 0.0)   # initialize LLM model\n",
    "turbo_llm = ChatOpenAI(temperature= 0.0,\n",
    "                       model_name='gpt-3.5-turbo')\n",
    "\n",
    "                       \n",
    "'''Notes on from_llm method: takes llm, prompt (see prompt template) and any kwargs as arguments'''\n",
    "\n",
    "retrieval_chain = RetrievalQA.from_llm(\n",
    "    llm = llm,\n",
    "    retriever = vector_store.as_retriever(search_kwargs={\"k\": 3}),\n",
    "    #memory = memory,\n",
    "    return_source_documents= True\n",
    ")\n",
    "\n",
    "\n",
    "# # create retrieval chain with HyDE vectorstore\n",
    "# retrieval_chain_hyde = RetrievalQA.from_llm(\n",
    "#     llm = llm,\n",
    "#     retriever = vector_store_hyde.as_retriever(search_kwargs={\"k\": 1}),\n",
    "#     return_source_documents= True\n",
    "# )"
   ]
  },
  {
   "cell_type": "markdown",
   "id": "a31ee577",
   "metadata": {},
   "source": [
    "### Comparison of queries\n",
    "\n",
    "The sample questions and answers below provide an indication of the sensitivity of the model to terminology used in the query. The relevant text in the document reads: \"Der Umfang der Bachelorarbeit entspricht 12 Leistungspunkten.\" \n",
    "\n",
    "While the first query results in a correct answer, neither the second nor third query are unable to detect it. It should be noted that the first query contains 4 of the words that are contained in the relevant string, in the same order (...der Umfang der Bachelorarbeit)\n",
    "\n",
    "This indicates that, when searching for relevant documents, query wording is extremely important. In fact, even capitalization appears to play a role, as it changes the response.\n",
    "\n",
    "Possible measures to improve performance:\n",
    "- use longer questions which through the usage of more words may result in embeddings with a higher proximity\n",
    "- lowercase all words before embedding\n",
    "- include metadata in both the documents and the queries\n",
    "- use different embedding model"
   ]
  },
  {
   "cell_type": "code",
   "execution_count": null,
   "id": "b629417c",
   "metadata": {},
   "outputs": [],
   "source": [
    "# Comparison of 3 queries with slight differences in wording\n",
    "queries = ['was ist der umfang der bachelorarbeit?',\n",
    "           'wieviele leistungspunkte umfängt die bachelorarbeit?',\n",
    "           'wieviele leistungspunkten entspricht die bachelorarbeit?',\n",
    "          \"Was ist der Umfang der bachelorarbeit, bzw. wieviele leistungspunkte umfasst die bachelorarbeit? welchen umfang hat das modul 'bachelorarbeit'?\"]\n",
    "\n",
    "# for query in queries:\n",
    "#     result = retrieval_chain({\"query\": query})\n",
    "#     print(result)"
   ]
  },
  {
   "cell_type": "code",
   "execution_count": null,
   "id": "021083ff",
   "metadata": {
    "scrolled": false
   },
   "outputs": [],
   "source": [
    "# Use 'apply' method to get all results in a list\n",
    "retrieval_chain.apply(queries)"
   ]
  },
  {
   "cell_type": "code",
   "execution_count": null,
   "id": "eff8f219",
   "metadata": {},
   "outputs": [],
   "source": [
    "for query in prompts:\n",
    "    result = retrieval_chain({\"query\": query})\n",
    "    print(result)"
   ]
  },
  {
   "cell_type": "code",
   "execution_count": null,
   "id": "6d0465bd",
   "metadata": {},
   "outputs": [],
   "source": [
    "query = \"In wiefern werden ein Diploma Supplement und ein Zeugnis und ein Transcript of Records ausgestellt?\"\n",
    "retrieval_chain({\"query\": query})"
   ]
  },
  {
   "cell_type": "code",
   "execution_count": null,
   "id": "1b374f19",
   "metadata": {},
   "outputs": [],
   "source": [
    "query = '''In wiefern erfüllt der Studiengang folgendes Kriterium: \n",
    "\n",
    "(1) 1 Im System gestufter Studiengänge ist der Bachelorabschluss der erste berufsqualifizierende Regelabschluss eines Hochschulstudiums; der Masterabschluss stellt einen weiteren berufsqualifizierenden Hochschulabschluss dar. 2Grundständige Studiengänge, die unmittelbar zu einem Masterabschluss führen, sind mit Ausnahme der in Absatz 3 genannten Studiengänge ausgeschlossen. (2) 1Die Regelstudienzeiten für ein Vollzeitstudium betragen sechs, sieben oder acht Semester bei den Bachelorstudiengängen und vier, drei oder zwei Semester bei den Masterstudiengängen. 2 Im Bachelorstudium beträgt die Regelstudienzeit im Vollzeitstudium mindestens drei Jahre. 3Bei konsekutiven Studiengängen beträgt die Gesamtregelstudienzeit im Vollzeitstudium fünf Jahre (zehn Semester). 4Wenn das Landesrecht dies vorsieht, sind kürzere und längere Regelstudienzeiten bei entsprechender studienorganisatorischer - 3 Gestaltung ausnahmsweise möglich, um den Studierenden eine individuelle Lernbiografie, insbesondere durch Teilzeit-, Fern-, berufsbegleitendes oder duales Studium sowie berufspraktische Semester, zu ermöglichen. 5Abweichend von Satz 3 können in den künstlerischen Kernfächern an Kunstund Musikhochschulen nach näherer Bestimmung des Landesrechts konsekutive Bachelor- und Masterstudiengänge auch mit einer Gesamtregelstudienzeit von sechs Jahren eingerichtet werden. (3) Theologische Studiengänge, die für das Pfarramt, das Priesteramt und den Beruf der Pastoralreferentin oder des Pastoralreferenten qualifizieren („Theologisches Vollstudium“), müssen nicht gestuft sein und können eine Regelstudienzeit von zehn Semestern aufweisen.\n",
    "'''\n",
    "retrieval_chain({\"query\": query})"
   ]
  },
  {
   "cell_type": "markdown",
   "id": "f1da7e5a",
   "metadata": {},
   "source": [
    "### HyDE with multi-document generation"
   ]
  },
  {
   "cell_type": "code",
   "execution_count": null,
   "id": "7bf8d3be",
   "metadata": {},
   "outputs": [],
   "source": [
    "multi_llm = OpenAI(n=2, best_of=2)\n",
    "\n",
    "embeddings_multi = HypotheticalDocumentEmbedder.from_llm(\n",
    "    multi_llm, base_embeddings, \"web_search\"\n",
    ")\n",
    "\n",
    "vectorstore_multi = FAISS.from_texts(text_chunks, embedding= embeddings_multi) "
   ]
  },
  {
   "cell_type": "code",
   "execution_count": null,
   "id": "1f20f967",
   "metadata": {},
   "outputs": [],
   "source": [
    "# create retrieval chain with HyDE vectorstore\n",
    "retrieval_chain_hyde_m = RetrievalQA.from_llm(\n",
    "    llm = llm,\n",
    "    retriever = vectorstore_multi.as_retriever(search_kwargs={\"k\": 1}),\n",
    "    return_source_documents= True\n",
    ")"
   ]
  },
  {
   "cell_type": "code",
   "execution_count": null,
   "id": "9f36ce13",
   "metadata": {},
   "outputs": [],
   "source": [
    "query = 'was ist der umfang der bachelorarbeit, bzw. wieviele leistungspunkte umfasst die bachelorarbeit?'\n",
    "retrieval_chain_hyde_m({\"query\": query})"
   ]
  },
  {
   "cell_type": "code",
   "execution_count": null,
   "id": "b9c6fcb8",
   "metadata": {},
   "outputs": [],
   "source": []
  },
  {
   "cell_type": "markdown",
   "id": "bee06d70",
   "metadata": {},
   "source": [
    "### Notes\n",
    "- HyDE seems to work much better - much more flexibility in formulating questions. 3 / 3 correct answers instead of 1/3\n",
    "- but also much slower, probably about 10-15x slower. Up to 1 minute to answer 3 questions\n",
    "- does not perform well when mixing questions which might be covered in multiple docs\n",
    "\n",
    "#### To-Dos\n",
    "- Use other vector stores? Chroma??\n",
    "- Unit tests (save for PyCharm)\n",
    "- Look at HyDE docs - appears doc is submitted instead of user query, Can I see what kind of document is generated? HyDE can perhaps be used for a chatbot application (see docs: https://github.com/hwchase17/langchain/blob/8502117f62fc4caa53d504ccc9d4e6a512006e7f/langchain/chains/hyde/base.py#L20)\n",
    "- Need to setup QA: proportion of chatbot answers that are correct?\n",
    "- Setup columns in Streamlit which display docs and proposed answers\n",
    "- Annotation - retrieval of relevant string snippets?\n",
    "- Extracting entities? https://python.langchain.com/docs/modules/chains/additional/extraction\n",
    "- Add Metadata to docs: https://python.langchain.com/docs/modules/chains/popular/vector_db_qa#return-source-documents:~:text=Return%20Source%20Documents\n",
    "- Adapt to cheapest LLM model (ChatOpenAI model_name = gpt-3.5-turbo)"
   ]
  },
  {
   "cell_type": "markdown",
   "id": "4c9b121c",
   "metadata": {},
   "source": [
    "### Prompt"
   ]
  },
  {
   "cell_type": "code",
   "execution_count": null,
   "id": "66d41b27",
   "metadata": {},
   "outputs": [],
   "source": [
    "def create_prompt(question):\n",
    "    prompt_template_de = f'''Du bist ein Audit-Assistent für Qualitätssicherung im Hochschulwesen. \n",
    "    Deine Aufgabe ist es, Fragen über die Inhalte von Hochschulunterlagen wahrheitsgemäß zu beantworten. \n",
    "    Wenn die Unterlagen über keine Inhalte verfügen, die für die gestellte Frage relevant sind, teilst du dies mit. \n",
    "    Dein Ton ist formal und professionell. \n",
    "    \n",
    "    Frage: \"Welche Informationen gibt es bezüglich der Vergabe eines Diploma Supplements?\"\n",
    "    Antwort: \"Gemäß der Prüfungsordnung erhalten die Studierenden beim Abschluss des Studiums ein Diploma Supplement auf Deutsch und Englisch wie auch ein Transcript of Records\"\n",
    "\n",
    "    Frage: \"In wiefern verfügen die Studiengänge über Kooperationen mit nicht-hochschulischen Einrichtungen?\"\n",
    "    Antwort: \"Aus den zur Verfügung stehenden Unterlagen ist es nicht ersichtlich, in wiefern Kooperationen mit nicht-hochschulischen Einrichtungen bestehen.\n",
    "\n",
    "    Frage: \"Wenn es sich um einen Masterstudiengang handelt, ist er konsekutiv oder weiterbildend?\"\n",
    "    Antwort: \"Es handelt sich um einen Bachelorstudiengang, daher ist dieses Kriterium für diesen Studiengang nicht relevant.\"\n",
    "\n",
    "    Frage: {question}\n",
    "    Antwort: '''\n",
    "    \n",
    "    return prompt_template_de"
   ]
  },
  {
   "cell_type": "markdown",
   "id": "42a00a7d",
   "metadata": {},
   "source": [
    "### Setup loop"
   ]
  },
  {
   "cell_type": "code",
   "execution_count": 25,
   "id": "d8a7f53a",
   "metadata": {},
   "outputs": [],
   "source": [
    "import json\n",
    "def load_json(file_path):\n",
    "    file = open(file_path, encoding=\"utf-8\")   # specifying encoding necessary to display German characters\n",
    "    criteria_sets = json.load(file)\n",
    "    return criteria_sets"
   ]
  },
  {
   "cell_type": "code",
   "execution_count": 58,
   "id": "5ac94f77",
   "metadata": {},
   "outputs": [],
   "source": [
    "file_path = 'acc_checker/criteria_sets_simple.json'\n",
    "criteria_sets_dict = load_json(file_path)"
   ]
  },
  {
   "cell_type": "markdown",
   "id": "5dd7f50c",
   "metadata": {},
   "source": [
    "## Functions for getting prompts from and storing responses and sources to dict"
   ]
  },
  {
   "cell_type": "code",
   "execution_count": 101,
   "id": "1b04281b",
   "metadata": {},
   "outputs": [],
   "source": [
    "def get_llm_response_with_sources(retrieval_chain, prompt):\n",
    "    response = retrieval_chain({\"query\": prompt})\n",
    "    return response"
   ]
  },
  {
   "cell_type": "code",
   "execution_count": 90,
   "id": "21d743da",
   "metadata": {},
   "outputs": [],
   "source": [
    "# source documents must be list containing <class 'langchain.schema.Document'> objects\n",
    "def combine_doc_strings(source_documents):\n",
    "    if source_documents is None:\n",
    "        raise Exception(\"No source document returned!\")\n",
    "    else:\n",
    "        source_str = \"\"\n",
    "        for d in source_documents:\n",
    "            source_str += d.page_content\n",
    "        return source_str"
   ]
  },
  {
   "cell_type": "code",
   "execution_count": 113,
   "id": "b5d223f9",
   "metadata": {},
   "outputs": [],
   "source": [
    "def get_and_store_llm_response_and_source_docs(crit_dict, retrieval_chain):\n",
    "    result = get_llm_response_with_sources(retrieval_chain, crit_dict[\"prompt\"])\n",
    "    crit_dict[\"response\"] = result[\"result\"]\n",
    "    crit_dict[\"source\"] = combine_doc_strings(result[\"source_documents\"])"
   ]
  },
  {
   "cell_type": "code",
   "execution_count": 114,
   "id": "6186bd49",
   "metadata": {},
   "outputs": [],
   "source": [
    "# takes criteria set dict and langchain retrieval chain as arguments\n",
    "# returns list which is a version of the original criteria list, expanded to include LLM responses and retrieved source docs\n",
    "def get_and_store_all_llm_responses_and_source_docs(criteria_set_dict, retrieval_chain):\n",
    "    criteria_and_response_list = criteria_set_dict['criteria_sets'][0]['criteria']\n",
    "    for c in criteria_and_response_list:\n",
    "        if c[\"subcriteria\"]:\n",
    "            for s in c[\"subcriteria\"]:\n",
    "                if s[\"prompt\"]:\n",
    "                    get_and_store_llm_response_and_source_docs(s, retrieval_chain)\n",
    "                else:\n",
    "                    raise Exception(f\"Missing prompt for criterion: {c['name']}, subcriterion {s['name']}\")\n",
    "        elif c[\"prompt\"]:\n",
    "            get_and_store_llm_response_and_source_docs(c, retrieval_chain)\n",
    "        else:\n",
    "            raise Exception(f\"Missing prompt for criterion: {c['name']}\")\n",
    "            \n",
    "    return criteria_and_response_list"
   ]
  },
  {
   "cell_type": "code",
   "execution_count": 125,
   "id": "1fc5edc0",
   "metadata": {},
   "outputs": [],
   "source": [
    "class AnalysisExecutor:\n",
    "    \n",
    "    def __init__(self, criteria_set_dict, vector_store):\n",
    "        self.criteria_set = criteria_set_dict\n",
    "        self.vector_store = vector_store\n",
    "        self.retrieval_chain = self.get_retrieval_chain(vector_store)\n",
    "        self.answer_list = self.get_and_store_all_llm_responses_and_source_docs(criteria_set_dict, self.retrieval_chain)\n",
    "        \n",
    "    def get_retrieval_chain(self, vector_store):\n",
    "        llm = OpenAI(temperature= 0.0)   # initialize LLM model\n",
    "#         turbo_llm = ChatOpenAI(temperature= 0.0, model_name='gpt-3.5-turbo')\n",
    "        retrieval_chain = RetrievalQA.from_llm(\n",
    "            llm = llm,\n",
    "            retriever = vector_store.as_retriever(search_kwargs={\"k\": 3}),\n",
    "            #memory = memory,\n",
    "            return_source_documents= True)\n",
    "        return retrieval_chain\n",
    "    \n",
    "    \n",
    "    def get_llm_response_with_sources(self, retrieval_chain, prompt):\n",
    "        response = retrieval_chain({\"query\": prompt})\n",
    "        return response\n",
    "    \n",
    "    \n",
    "    # source documents must be list containing <class 'langchain.schema.Document'> objects\n",
    "    def combine_doc_strings(self, source_documents):\n",
    "        if source_documents is None:\n",
    "            raise Exception(\"No source document returned!\")\n",
    "        else:\n",
    "            source_str = \"\"\n",
    "            for d in source_documents:\n",
    "                source_str += d.page_content\n",
    "            return source_str\n",
    "    \n",
    "    \n",
    "    def get_and_store_llm_response_and_source_docs(self, crit_dict, retrieval_chain):\n",
    "        result = get_llm_response_with_sources(retrieval_chain, crit_dict[\"prompt\"])\n",
    "        crit_dict[\"response\"] = result[\"result\"]\n",
    "        crit_dict[\"source\"] = combine_doc_strings(result[\"source_documents\"])\n",
    "        \n",
    "        \n",
    "    # takes criteria set dict and langchain retrieval chain as arguments\n",
    "    # returns list which is a version of the original criteria list, expanded to include LLM responses and retrieved source docs\n",
    "    def get_and_store_all_llm_responses_and_source_docs(self, criteria_set_dict, retrieval_chain):\n",
    "        criteria_and_response_list = criteria_set_dict['criteria_sets'][0]['criteria']\n",
    "        for c in criteria_and_response_list:\n",
    "            if c[\"subcriteria\"]:\n",
    "                for s in c[\"subcriteria\"]:\n",
    "                    if s[\"prompt\"]:\n",
    "                        get_and_store_llm_response_and_source_docs(s, retrieval_chain)\n",
    "                    else:\n",
    "                        raise Exception(f\"Missing prompt for criterion: {c['name']}, subcriterion {s['name']}\")\n",
    "            elif c[\"prompt\"]:\n",
    "                get_and_store_llm_response_and_source_docs(c, retrieval_chain)\n",
    "            else:\n",
    "                raise Exception(f\"Missing prompt for criterion: {c['name']}\")\n",
    "\n",
    "        return criteria_and_response_list"
   ]
  },
  {
   "cell_type": "code",
   "execution_count": 126,
   "id": "19f556b0",
   "metadata": {},
   "outputs": [
    {
     "data": {
      "text/plain": [
       "[{'name': '§ 3 Studienstruktur und Studiendauer',\n",
       "  'name_short': '§ 3',\n",
       "  'position': 1,\n",
       "  'text': '(1) 1 Im System gestufter Studiengänge ist der Bachelorabschluss der erste berufsqualifizierende Regelabschluss eines Hochschulstudiums; der Masterabschluss stellt einen weiteren berufsqualifizierenden Hochschulabschluss dar. 2Grundständige Studiengänge, die unmittelbar zu einem Masterabschluss führen, sind mit Ausnahme der in Absatz 3 genannten Studiengänge ausgeschlossen. (2) 1Die Regelstudienzeiten für ein Vollzeitstudium betragen sechs, sieben oder acht Semester bei den Bachelorstudiengängen und vier, drei oder zwei Semester bei den Masterstudiengängen. 2 Im Bachelorstudium beträgt die Regelstudienzeit im Vollzeitstudium mindestens drei Jahre. 3Bei konsekutiven Studiengängen beträgt die Gesamtregelstudienzeit im Vollzeitstudium fünf Jahre (zehn Semester). 4Wenn das Landesrecht dies vorsieht, sind kürzere und längere Regelstudienzeiten bei entsprechender studienorganisatorischer Gestaltung ausnahmsweise möglich, um den Studierenden eine individuelle Lernbiografie, insbesondere durch Teilzeit-, Fern-, berufsbegleitendes oder duales Studium sowie berufspraktische Semester, zu ermöglichen. 5Abweichend von Satz 3 können in den künstlerischen Kernfächern an Kunstund Musikhochschulen nach näherer Bestimmung des Landesrechts konsekutive Bachelor- und Masterstudiengänge auch mit einer Gesamtregelstudienzeit von sechs Jahren eingerichtet werden. (3) Theologische Studiengänge, die für das Pfarramt, das Priesteramt und den Beruf der Pastoralreferentin oder des Pastoralreferenten qualifizieren („Theologisches Vollstudium“), müssen nicht gestuft sein und können eine Regelstudienzeit von zehn Semestern aufweisen.',\n",
       "  'text_formatted': '(1) 1 Im System gestufter Studiengänge ist der Bachelorabschluss der erste berufsqualifizierende Regelabschluss eines Hochschulstudiums; der Masterabschluss stellt einen weiteren berufsqualifizierenden Hochschulabschluss dar. 2Grundständige Studiengänge, die unmittelbar zu einem Masterabschluss führen, sind mit Ausnahme der in Absatz 3 genannten Studiengänge ausgeschlossen.  \\n(2) 1Die Regelstudienzeiten für ein Vollzeitstudium betragen sechs, sieben oder acht Semester bei den Bachelorstudiengängen und vier, drei oder zwei Semester bei den Masterstudiengängen. 2 Im Bachelorstudium beträgt die Regelstudienzeit im Vollzeitstudium mindestens drei Jahre. 3Bei konsekutiven Studiengängen beträgt die Gesamtregelstudienzeit im Vollzeitstudium fünf Jahre (zehn Semester). 4Wenn das Landesrecht dies vorsieht, sind kürzere und längere Regelstudienzeiten bei entsprechender studienorganisatorischer Gestaltung ausnahmsweise möglich, um den Studierenden eine individuelle Lernbiografie, insbesondere durch Teilzeit-, Fern-, berufsbegleitendes oder duales Studium sowie berufspraktische Semester, zu ermöglichen. 5Abweichend von Satz 3 können in den künstlerischen Kernfächern an Kunstund Musikhochschulen nach näherer Bestimmung des Landesrechts konsekutive Bachelor- und Masterstudiengänge auch mit einer Gesamtregelstudienzeit von sechs Jahren eingerichtet werden.  \\n(3) Theologische Studiengänge, die für das Pfarramt, das Priesteramt und den Beruf der Pastoralreferentin oder des Pastoralreferenten qualifizieren („Theologisches Vollstudium“), müssen nicht gestuft sein und können eine Regelstudienzeit von zehn Semestern aufweisen.',\n",
       "  'subcriteria': [{'subcriterion_nr': 1,\n",
       "    'name': 'Absatz 1',\n",
       "    'text': '(1) 1 Im System gestufter Studiengänge ist der Bachelorabschluss der erste berufsqualifizierende Regelabschluss eines Hochschulstudiums; der Masterabschluss stellt einen weiteren berufsqualifizierenden Hochschulabschluss dar. 2Grundständige Studiengänge, die unmittelbar zu einem Masterabschluss führen, sind mit Ausnahme der in Absatz 3 genannten Studiengänge ausgeschlossen.',\n",
       "    'prompt': 'blablabla',\n",
       "    'response': \" I don't know.\",\n",
       "    'source': 'stattfinden. (2) 1Die Bachelorarbeit kann von Hochschullehrer/innen und leitenden Wissenschaftler/innen gemäß § 14 Abs. 3 Ziff. 1 KITG in der Fassung vor Inkrafttreten des 2. KIT-WG vom 04. Februar 2021 sowie habilitierten Mitgliedern der KIT-Fakultät für Informatik vergeben werden. 2Darüber hinaus kann der Prüfungsausschuss weitere Prüfende gemäß § 18 Abs. 2 und 3 zur Vergabe des Themas berechtigen. 3Den Studierenden ist Gelegenheit zu geben, für das Thema Vorschläge zu machen. 4Soll die Bachelorarbeit außerhalb der KIT-Fakultät für Informatik angefertigt werden, so bedarf dies der Genehmigung durch den Prüfungsausschuss. 5Die Bachelorarbeit kann auch in Form einer Gruppenarbeit zugelassen werden, wenn der als Prüfungsleistung zu bewertende Beitrag der/des einzelnen Studierenden aufgrund objektiver Kriterien, die eine eindeutige Abgrenzung ermöglichen, deutlich unterscheidbar ist und die Anforderung nach Absatz 4 erfüllt. 6In Ausnahmefällen sorgt die/der Vorsitzende desbei Studierenden in besonderen Lebenslagen findet die Satzung über nachteilsausgleichende Regelungen in den Bachelor- und Masterstudiengängen am Karlsruher Institut für Technologie (KIT) in der jeweils geltenden Fassung Anwendung.   § 14 Modul Bachelorarbeit (1) 1Voraussetzung für die Zulassung zum Modul Bachelorarbeit ist, dass die/der Studierende Modulprüfungen im Umfang von 120 LP erfolgreich abgelegt hat und nicht mehr als eine Modulprüfung aus den Pflichtfächern gemäß § 20 Abs. 2 Ziff. 1 - 4 noch nicht bestanden hat. 2Über Ausnahmen entscheidet der Prüfungsausschuss auf Antrag der/des Studierenden.  (1 a) 1Dem Modul Bachelorarbeit sind 15 LP zugeordnet. 2Es besteht aus der Bachelorarbeit und einer Präsentation. 3Die Präsentation soll spätestens vier Wochen nach Abgabe der Bachelorarbeit stattfinden. (2) 1Die Bachelorarbeit kann von Hochschullehrer/innen und leitenden Wissenschaftler/innen gemäß § 14 Abs. 3 Ziff. 1 KITG in der Fassung vor Inkrafttreten des 2. KIT-WG vom 04.Amtliche Bekanntmachung     Die Forschungsuniversität in der Helmholtz-Gemeinschaft 2022  Ausgegeben Karlsruhe, den 10. Mai 2022 Nr. 34             I n h a l t Seite    Studien- und Prüfungsordnung des Karlsruher Instituts 215  für Technologie (KIT) für den Bachelorstudiengang  Informatik                   215   Studien- und Prüfungsordnung des Karlsruher Instituts für Technologie (KIT) für den Bachelorstudiengang Informatik  vom 10. Mai 2022  Aufgrund von § 10 Absatz 2 Ziff. 4 und § 20 Absatz 2 des Gesetzes über das Karlsruher Institut für Technologie (KIT-Gesetz - KITG) in der Fassung vom 14. Juli 2009 (GBl. S. 317 f), zuletzt geändert durch Artikel 2 des Gesetzes zur Änderung des Landeshochschulgesetzes und anderer Gesetze vom 26. Oktober 2021 (GBL. S. 941), und § 32 Absatz 3 Satz 1 des Gesetzes über die Hochschulen in Baden-Württemberg (Landeshochschulgesetz - LHG) in der Fassung vom 1. Januar 2005 zuletzt geändert durch Artikel 7 der Zehnten Verordnung des Innenministeriums'},\n",
       "   {'subcriterion_nr': 2,\n",
       "    'name': 'Absatz 2',\n",
       "    'text': '(2) 1Die Regelstudienzeiten für ein Vollzeitstudium betragen sechs, sieben oder acht Semester bei den Bachelorstudiengängen und vier, drei oder zwei Semester bei den Masterstudiengängen. 2 Im Bachelorstudium beträgt die Regelstudienzeit im Vollzeitstudium mindestens drei Jahre. 3Bei konsekutiven Studiengängen beträgt die Gesamtregelstudienzeit im Vollzeitstudium fünf Jahre (zehn Semester). 4Wenn das Landesrecht dies vorsieht, sind kürzere und längere Regelstudienzeiten bei entsprechender studienorganisatorischer Gestaltung ausnahmsweise möglich, um den Studierenden eine individuelle Lernbiografie, insbesondere durch Teilzeit-, Fern-, berufsbegleitendes oder duales Studium sowie berufspraktische Semester, zu ermöglichen. 5Abweichend von Satz 3 können in den künstlerischen Kernfächern an Kunstund Musikhochschulen nach näherer Bestimmung des Landesrechts konsekutive Bachelor- und Masterstudiengänge auch mit einer Gesamtregelstudienzeit von sechs Jahren eingerichtet werden.',\n",
       "    'prompt': 'Was ist die Regelstudienzeit für den Studiengang? z.B. 2 Semester, 6 Semester, 7 Semester',\n",
       "    'response': ' Die Regelstudienzeit beträgt sechs Semester.',\n",
       "    'source': 'haben im Rahmen der dortigen Kapazitäten und Regelungen bis einschließ-lich drittem Fachsemester Zugang zu den Veranstaltungen des MINT-Kollegs Baden-Württemberg (im folgenden MINT-Kolleg). (2) 1Die Regelstudienzeit beträgt sechs Semester.  2Bei einer qualifizierten Teilnahme am MINT-Kolleg bleiben bei der Anrechnung auf die Regelstudienzeit bis zu zwei Semester unberücksichtigt. 3Die konkrete Anzahl der Semester richtet sich nach § 8 Absatz 2 Satz 3 bis 5.  4Eine qualifizierte Teilnahme liegt vor, wenn die Studierenden Veranstaltungen des MINT-Kollegs für die Dauer von mindestens einem Semester im Umfang von mindestens zwei Fachkursen (Gesamtworkload 10 Semesterwochenstunden) belegt hat. 5Das MINT-Kolleg stellt hier-über eine Bescheinigung aus. (3) 1Das Lehrangebot des Studiengangs ist in Fächer, die Fächer sind in Module, die jeweiligen Module in Lehrveranstaltungen gegliedert. 2Die Fächer und ihr Umfang werden in § 20 festgelegt. 3Näheres beschreibt das Modulhandbuch.  (4) 1Der fürwerden, wenn mehr als 50 Prozent des Hochschulstudiums ersetzt werden soll.  (6) 1Zuständig für Anerkennung und Anrechnung ist der Prüfungsausschuss. 2Im Rahmen der Feststellung, ob ein wesentlicher Unterschied im Sinne des Absatz 1 vorliegt, sind die zuständigen Fachvertreter/innen zu hören. 3Der Prüfungsausschuss entscheidet in Abhängigkeit von Art und Umfang der anzurechnenden Studien- und Prüfungsleistungen über die Einstufung in ein höheres Fachsemester.  II. Bachelorprüfung  § 20 Umfang und Art der Bachelorprüfung (1) 1Die Bachelorprüfung besteht aus den Modulprüfungen nach Absatz 2 sowie dem Modul Bachelorarbeit (§ 14).  (2) 1Es sind Modulprüfungen in folgenden Pflichtfächern abzulegen: 1. Fach Theoretische Informatik: Modul(e) im Umfang von 18 LP, 2. Fach Praktische Informatik: Modul(e) im Umfang von 48 LP, 3. Fach Technische Informatik: Modul(e) im Umfang von 12 LP, 4. Fach Mathematik: Modul(e) im Umfang von 38 bis 45 LP, 5. Wahlbereich Informatik: Modul(e) im Umfang von 15auf die Lerninhalte der Lehrveranstaltung und die Lernziele des Moduls festgelegt. 2Die Art der Erfolgskontrolle, ihre Häufigkeit, Reihenfolge und Gewichtung sowie gegebenenfalls die Bildung der Modulnote müssen mindestens sechs Wochen vor Vorlesungsbeginn im Modulhandbuch bekannt gemacht werden. 3Im Einvernehmen von Prüfender bzw. Prüfendem und Studierender bzw. Studierendem können die Art der Prü-fungsleistung sowie die Prüfungssprache auch nachträglich geändert werden; im ersten Fall ist jedoch § 4 Abs. 5 zu berücksichtigen. 4Bei der Prüfungsorganisation sind die Belange Studierender in besonderen Lebenslagen gemäß § 4 Abs. 1 der Satzung über nachteilsausgleichende Regelungen in den Bachelor- und Masterstudiengängen am Karlsruher Institut für Technologie (KIT) in der jeweils geltenden Fassung zu berücksichtigen. 5§ 2 und § 4 Abs.1 Satz 3 der Satzung über nachteilsausgleichende Regelungen in den Bachelor- und Masterstudiengängen am Karlsruher Institut für Technologie (KIT) in der'},\n",
       "   {'subcriterion_nr': 3,\n",
       "    'name': 'Absatz 3',\n",
       "    'text': '(3) Theologische Studiengänge, die für das Pfarramt, das Priesteramt und den Beruf der Pastoralreferentin oder des Pastoralreferenten qualifizieren („Theologisches Vollstudium“), müssen nicht gestuft sein und können eine Regelstudienzeit von zehn Semestern aufweisen.',\n",
       "    'prompt': \"Handelt es sich um einen theologischen Studiengang? Wenn nein, antworte: 'Da es sich nicht um einen theologischen Studiengang handelt, ist Absatz 3 irrelevant'. Wenn ja, beschreibe inwiefern die Regelstudienzeit die maximale Grenze von 10 Semestern einhält\",\n",
       "    'response': ' Nein, es handelt sich nicht um einen theologischen Studiengang. Da es sich nicht um einen theologischen Studiengang handelt, ist Absatz 3 irrelevant.',\n",
       "    'source': 'Studierenden die Frist um ein weiteres Semester verlängern, wenn dies aus studienorganisatorischen Gründen für das fristgerechte Ablegen der Orientierungsprüfung erforderlich ist, insbesondere weil die Module, die Bestandteil der Orientierungsprüfung sind, nur einmal jährlich angeboten werden. (3) 1Ist die Bachelorprüfung bis zum Ende des Prüfungszeitraums des neunten Fachsemesters einschließlich etwaiger Wiederholungen nicht vollständig abgelegt, so erlischt der Prüfungsanspruch im Bachelorstudiengang Informatik, es sei denn, dass die Fristüberschreitung nicht selbst zu vertreten ist. 2Die Entscheidung über eine Fristverlängerung und über Ausnahmen von der Fristregelung trifft der Prüfungsausschuss unter Beachtung der in § 32 Abs. 6 LHG genannten Tätigkeiten auf Antrag des/der Studierenden. 3Der Antrag ist schriftlich in der Regel bis sechs Wochen vor Ablauf der in Satz 1 genannten Studienhöchstdauer zu stellen. 4Absatz 2 Satz 3 bis 5 gelten entsprechend. (4) 1Der Prüfungsanspruchwerden, wenn mehr als 50 Prozent des Hochschulstudiums ersetzt werden soll.  (6) 1Zuständig für Anerkennung und Anrechnung ist der Prüfungsausschuss. 2Im Rahmen der Feststellung, ob ein wesentlicher Unterschied im Sinne des Absatz 1 vorliegt, sind die zuständigen Fachvertreter/innen zu hören. 3Der Prüfungsausschuss entscheidet in Abhängigkeit von Art und Umfang der anzurechnenden Studien- und Prüfungsleistungen über die Einstufung in ein höheres Fachsemester.  II. Bachelorprüfung  § 20 Umfang und Art der Bachelorprüfung (1) 1Die Bachelorprüfung besteht aus den Modulprüfungen nach Absatz 2 sowie dem Modul Bachelorarbeit (§ 14).  (2) 1Es sind Modulprüfungen in folgenden Pflichtfächern abzulegen: 1. Fach Theoretische Informatik: Modul(e) im Umfang von 18 LP, 2. Fach Praktische Informatik: Modul(e) im Umfang von 48 LP, 3. Fach Technische Informatik: Modul(e) im Umfang von 12 LP, 4. Fach Mathematik: Modul(e) im Umfang von 38 bis 45 LP, 5. Wahlbereich Informatik: Modul(e) im Umfang von 15Absatz 2 Satz 2 ist nach einer Frist von fünf Jahren ab dem Datum des Zeugnisses ausgeschlossen. (6) 1Die Aberkennung des akademischen Grades richtet sich nach § 36 Abs. 7 LHG.  § 25 Einsicht in die Prüfungsakten (1) 1Nach Abschluss der Bachelorprüfung wird den Studierenden auf Antrag innerhalb eines Jahres Einsicht in das Prüfungsexemplar ihrer Bachelorarbeit, die darauf bezogenen Gutachten und in die Prüfungsprotokolle gewährt. (2) 1Für die Einsichtnahme in die schriftlichen Modulprüfungen, schriftlichen Modulteilprüfungen bzw. Prüfungsprotokolle gilt eine Frist von einem Monat nach Bekanntgabe des Prüfungsergebnisses. (3) 1Der/die Prüfende bestimmt Ort und Zeit der Einsichtnahme. (4) 1Prüfungsunterlagen sind mindestens fünf Jahre aufzubewahren.  § 26 Inkrafttreten, Übergangsvorschriften (1)  1Diese Studien- und Prüfungsordnung tritt am 01. Oktober 2022 in Kraft und gilt für, 1. Studierende, die ihr Studium im Bachelorstudiengang Informatik am KIT im ersten Fachsemester aufnehmen,'}]}]"
      ]
     },
     "execution_count": 126,
     "metadata": {},
     "output_type": "execute_result"
    }
   ],
   "source": [
    "analyzer = AnalysisExecutor(criteria_sets_dict, vector_store)\n",
    "analyzer.answer_list"
   ]
  },
  {
   "cell_type": "code",
   "execution_count": 118,
   "id": "928d38e8",
   "metadata": {},
   "outputs": [],
   "source": [
    "answer_list = get_and_store_responses(criteria_sets_dict, retrieval_chain)"
   ]
  },
  {
   "cell_type": "code",
   "execution_count": 119,
   "id": "5c257730",
   "metadata": {},
   "outputs": [
    {
     "data": {
      "text/plain": [
       "[{'name': '§ 3 Studienstruktur und Studiendauer',\n",
       "  'name_short': '§ 3',\n",
       "  'position': 1,\n",
       "  'text': '(1) 1 Im System gestufter Studiengänge ist der Bachelorabschluss der erste berufsqualifizierende Regelabschluss eines Hochschulstudiums; der Masterabschluss stellt einen weiteren berufsqualifizierenden Hochschulabschluss dar. 2Grundständige Studiengänge, die unmittelbar zu einem Masterabschluss führen, sind mit Ausnahme der in Absatz 3 genannten Studiengänge ausgeschlossen. (2) 1Die Regelstudienzeiten für ein Vollzeitstudium betragen sechs, sieben oder acht Semester bei den Bachelorstudiengängen und vier, drei oder zwei Semester bei den Masterstudiengängen. 2 Im Bachelorstudium beträgt die Regelstudienzeit im Vollzeitstudium mindestens drei Jahre. 3Bei konsekutiven Studiengängen beträgt die Gesamtregelstudienzeit im Vollzeitstudium fünf Jahre (zehn Semester). 4Wenn das Landesrecht dies vorsieht, sind kürzere und längere Regelstudienzeiten bei entsprechender studienorganisatorischer Gestaltung ausnahmsweise möglich, um den Studierenden eine individuelle Lernbiografie, insbesondere durch Teilzeit-, Fern-, berufsbegleitendes oder duales Studium sowie berufspraktische Semester, zu ermöglichen. 5Abweichend von Satz 3 können in den künstlerischen Kernfächern an Kunstund Musikhochschulen nach näherer Bestimmung des Landesrechts konsekutive Bachelor- und Masterstudiengänge auch mit einer Gesamtregelstudienzeit von sechs Jahren eingerichtet werden. (3) Theologische Studiengänge, die für das Pfarramt, das Priesteramt und den Beruf der Pastoralreferentin oder des Pastoralreferenten qualifizieren („Theologisches Vollstudium“), müssen nicht gestuft sein und können eine Regelstudienzeit von zehn Semestern aufweisen.',\n",
       "  'text_formatted': '(1) 1 Im System gestufter Studiengänge ist der Bachelorabschluss der erste berufsqualifizierende Regelabschluss eines Hochschulstudiums; der Masterabschluss stellt einen weiteren berufsqualifizierenden Hochschulabschluss dar. 2Grundständige Studiengänge, die unmittelbar zu einem Masterabschluss führen, sind mit Ausnahme der in Absatz 3 genannten Studiengänge ausgeschlossen.  \\n(2) 1Die Regelstudienzeiten für ein Vollzeitstudium betragen sechs, sieben oder acht Semester bei den Bachelorstudiengängen und vier, drei oder zwei Semester bei den Masterstudiengängen. 2 Im Bachelorstudium beträgt die Regelstudienzeit im Vollzeitstudium mindestens drei Jahre. 3Bei konsekutiven Studiengängen beträgt die Gesamtregelstudienzeit im Vollzeitstudium fünf Jahre (zehn Semester). 4Wenn das Landesrecht dies vorsieht, sind kürzere und längere Regelstudienzeiten bei entsprechender studienorganisatorischer Gestaltung ausnahmsweise möglich, um den Studierenden eine individuelle Lernbiografie, insbesondere durch Teilzeit-, Fern-, berufsbegleitendes oder duales Studium sowie berufspraktische Semester, zu ermöglichen. 5Abweichend von Satz 3 können in den künstlerischen Kernfächern an Kunstund Musikhochschulen nach näherer Bestimmung des Landesrechts konsekutive Bachelor- und Masterstudiengänge auch mit einer Gesamtregelstudienzeit von sechs Jahren eingerichtet werden.  \\n(3) Theologische Studiengänge, die für das Pfarramt, das Priesteramt und den Beruf der Pastoralreferentin oder des Pastoralreferenten qualifizieren („Theologisches Vollstudium“), müssen nicht gestuft sein und können eine Regelstudienzeit von zehn Semestern aufweisen.',\n",
       "  'subcriteria': [{'subcriterion_nr': 1,\n",
       "    'name': 'Absatz 1',\n",
       "    'text': '(1) 1 Im System gestufter Studiengänge ist der Bachelorabschluss der erste berufsqualifizierende Regelabschluss eines Hochschulstudiums; der Masterabschluss stellt einen weiteren berufsqualifizierenden Hochschulabschluss dar. 2Grundständige Studiengänge, die unmittelbar zu einem Masterabschluss führen, sind mit Ausnahme der in Absatz 3 genannten Studiengänge ausgeschlossen.',\n",
       "    'prompt': 'blablabla',\n",
       "    'response': \" I don't know.\",\n",
       "    'source': 'stattfinden. (2) 1Die Bachelorarbeit kann von Hochschullehrer/innen und leitenden Wissenschaftler/innen gemäß § 14 Abs. 3 Ziff. 1 KITG in der Fassung vor Inkrafttreten des 2. KIT-WG vom 04. Februar 2021 sowie habilitierten Mitgliedern der KIT-Fakultät für Informatik vergeben werden. 2Darüber hinaus kann der Prüfungsausschuss weitere Prüfende gemäß § 18 Abs. 2 und 3 zur Vergabe des Themas berechtigen. 3Den Studierenden ist Gelegenheit zu geben, für das Thema Vorschläge zu machen. 4Soll die Bachelorarbeit außerhalb der KIT-Fakultät für Informatik angefertigt werden, so bedarf dies der Genehmigung durch den Prüfungsausschuss. 5Die Bachelorarbeit kann auch in Form einer Gruppenarbeit zugelassen werden, wenn der als Prüfungsleistung zu bewertende Beitrag der/des einzelnen Studierenden aufgrund objektiver Kriterien, die eine eindeutige Abgrenzung ermöglichen, deutlich unterscheidbar ist und die Anforderung nach Absatz 4 erfüllt. 6In Ausnahmefällen sorgt die/der Vorsitzende desbei Studierenden in besonderen Lebenslagen findet die Satzung über nachteilsausgleichende Regelungen in den Bachelor- und Masterstudiengängen am Karlsruher Institut für Technologie (KIT) in der jeweils geltenden Fassung Anwendung.   § 14 Modul Bachelorarbeit (1) 1Voraussetzung für die Zulassung zum Modul Bachelorarbeit ist, dass die/der Studierende Modulprüfungen im Umfang von 120 LP erfolgreich abgelegt hat und nicht mehr als eine Modulprüfung aus den Pflichtfächern gemäß § 20 Abs. 2 Ziff. 1 - 4 noch nicht bestanden hat. 2Über Ausnahmen entscheidet der Prüfungsausschuss auf Antrag der/des Studierenden.  (1 a) 1Dem Modul Bachelorarbeit sind 15 LP zugeordnet. 2Es besteht aus der Bachelorarbeit und einer Präsentation. 3Die Präsentation soll spätestens vier Wochen nach Abgabe der Bachelorarbeit stattfinden. (2) 1Die Bachelorarbeit kann von Hochschullehrer/innen und leitenden Wissenschaftler/innen gemäß § 14 Abs. 3 Ziff. 1 KITG in der Fassung vor Inkrafttreten des 2. KIT-WG vom 04.Amtliche Bekanntmachung     Die Forschungsuniversität in der Helmholtz-Gemeinschaft 2022  Ausgegeben Karlsruhe, den 10. Mai 2022 Nr. 34             I n h a l t Seite    Studien- und Prüfungsordnung des Karlsruher Instituts 215  für Technologie (KIT) für den Bachelorstudiengang  Informatik                   215   Studien- und Prüfungsordnung des Karlsruher Instituts für Technologie (KIT) für den Bachelorstudiengang Informatik  vom 10. Mai 2022  Aufgrund von § 10 Absatz 2 Ziff. 4 und § 20 Absatz 2 des Gesetzes über das Karlsruher Institut für Technologie (KIT-Gesetz - KITG) in der Fassung vom 14. Juli 2009 (GBl. S. 317 f), zuletzt geändert durch Artikel 2 des Gesetzes zur Änderung des Landeshochschulgesetzes und anderer Gesetze vom 26. Oktober 2021 (GBL. S. 941), und § 32 Absatz 3 Satz 1 des Gesetzes über die Hochschulen in Baden-Württemberg (Landeshochschulgesetz - LHG) in der Fassung vom 1. Januar 2005 zuletzt geändert durch Artikel 7 der Zehnten Verordnung des Innenministeriums'},\n",
       "   {'subcriterion_nr': 2,\n",
       "    'name': 'Absatz 2',\n",
       "    'text': '(2) 1Die Regelstudienzeiten für ein Vollzeitstudium betragen sechs, sieben oder acht Semester bei den Bachelorstudiengängen und vier, drei oder zwei Semester bei den Masterstudiengängen. 2 Im Bachelorstudium beträgt die Regelstudienzeit im Vollzeitstudium mindestens drei Jahre. 3Bei konsekutiven Studiengängen beträgt die Gesamtregelstudienzeit im Vollzeitstudium fünf Jahre (zehn Semester). 4Wenn das Landesrecht dies vorsieht, sind kürzere und längere Regelstudienzeiten bei entsprechender studienorganisatorischer Gestaltung ausnahmsweise möglich, um den Studierenden eine individuelle Lernbiografie, insbesondere durch Teilzeit-, Fern-, berufsbegleitendes oder duales Studium sowie berufspraktische Semester, zu ermöglichen. 5Abweichend von Satz 3 können in den künstlerischen Kernfächern an Kunstund Musikhochschulen nach näherer Bestimmung des Landesrechts konsekutive Bachelor- und Masterstudiengänge auch mit einer Gesamtregelstudienzeit von sechs Jahren eingerichtet werden.',\n",
       "    'prompt': 'Was ist die Regelstudienzeit für den Studiengang? z.B. 2 Semester, 6 Semester, 7 Semester',\n",
       "    'response': ' Die Regelstudienzeit beträgt sechs Semester.',\n",
       "    'source': 'haben im Rahmen der dortigen Kapazitäten und Regelungen bis einschließ-lich drittem Fachsemester Zugang zu den Veranstaltungen des MINT-Kollegs Baden-Württemberg (im folgenden MINT-Kolleg). (2) 1Die Regelstudienzeit beträgt sechs Semester.  2Bei einer qualifizierten Teilnahme am MINT-Kolleg bleiben bei der Anrechnung auf die Regelstudienzeit bis zu zwei Semester unberücksichtigt. 3Die konkrete Anzahl der Semester richtet sich nach § 8 Absatz 2 Satz 3 bis 5.  4Eine qualifizierte Teilnahme liegt vor, wenn die Studierenden Veranstaltungen des MINT-Kollegs für die Dauer von mindestens einem Semester im Umfang von mindestens zwei Fachkursen (Gesamtworkload 10 Semesterwochenstunden) belegt hat. 5Das MINT-Kolleg stellt hier-über eine Bescheinigung aus. (3) 1Das Lehrangebot des Studiengangs ist in Fächer, die Fächer sind in Module, die jeweiligen Module in Lehrveranstaltungen gegliedert. 2Die Fächer und ihr Umfang werden in § 20 festgelegt. 3Näheres beschreibt das Modulhandbuch.  (4) 1Der fürwerden, wenn mehr als 50 Prozent des Hochschulstudiums ersetzt werden soll.  (6) 1Zuständig für Anerkennung und Anrechnung ist der Prüfungsausschuss. 2Im Rahmen der Feststellung, ob ein wesentlicher Unterschied im Sinne des Absatz 1 vorliegt, sind die zuständigen Fachvertreter/innen zu hören. 3Der Prüfungsausschuss entscheidet in Abhängigkeit von Art und Umfang der anzurechnenden Studien- und Prüfungsleistungen über die Einstufung in ein höheres Fachsemester.  II. Bachelorprüfung  § 20 Umfang und Art der Bachelorprüfung (1) 1Die Bachelorprüfung besteht aus den Modulprüfungen nach Absatz 2 sowie dem Modul Bachelorarbeit (§ 14).  (2) 1Es sind Modulprüfungen in folgenden Pflichtfächern abzulegen: 1. Fach Theoretische Informatik: Modul(e) im Umfang von 18 LP, 2. Fach Praktische Informatik: Modul(e) im Umfang von 48 LP, 3. Fach Technische Informatik: Modul(e) im Umfang von 12 LP, 4. Fach Mathematik: Modul(e) im Umfang von 38 bis 45 LP, 5. Wahlbereich Informatik: Modul(e) im Umfang von 15auf die Lerninhalte der Lehrveranstaltung und die Lernziele des Moduls festgelegt. 2Die Art der Erfolgskontrolle, ihre Häufigkeit, Reihenfolge und Gewichtung sowie gegebenenfalls die Bildung der Modulnote müssen mindestens sechs Wochen vor Vorlesungsbeginn im Modulhandbuch bekannt gemacht werden. 3Im Einvernehmen von Prüfender bzw. Prüfendem und Studierender bzw. Studierendem können die Art der Prü-fungsleistung sowie die Prüfungssprache auch nachträglich geändert werden; im ersten Fall ist jedoch § 4 Abs. 5 zu berücksichtigen. 4Bei der Prüfungsorganisation sind die Belange Studierender in besonderen Lebenslagen gemäß § 4 Abs. 1 der Satzung über nachteilsausgleichende Regelungen in den Bachelor- und Masterstudiengängen am Karlsruher Institut für Technologie (KIT) in der jeweils geltenden Fassung zu berücksichtigen. 5§ 2 und § 4 Abs.1 Satz 3 der Satzung über nachteilsausgleichende Regelungen in den Bachelor- und Masterstudiengängen am Karlsruher Institut für Technologie (KIT) in der'},\n",
       "   {'subcriterion_nr': 3,\n",
       "    'name': 'Absatz 3',\n",
       "    'text': '(3) Theologische Studiengänge, die für das Pfarramt, das Priesteramt und den Beruf der Pastoralreferentin oder des Pastoralreferenten qualifizieren („Theologisches Vollstudium“), müssen nicht gestuft sein und können eine Regelstudienzeit von zehn Semestern aufweisen.',\n",
       "    'prompt': \"Handelt es sich um einen theologischen Studiengang? Wenn nein, antworte: 'Da es sich nicht um einen theologischen Studiengang handelt, ist Absatz 3 irrelevant'. Wenn ja, beschreibe inwiefern die Regelstudienzeit die maximale Grenze von 10 Semestern einhält\",\n",
       "    'response': ' Nein, es handelt sich nicht um einen theologischen Studiengang. Da es sich nicht um einen theologischen Studiengang handelt, ist Absatz 3 irrelevant.',\n",
       "    'source': 'Studierenden die Frist um ein weiteres Semester verlängern, wenn dies aus studienorganisatorischen Gründen für das fristgerechte Ablegen der Orientierungsprüfung erforderlich ist, insbesondere weil die Module, die Bestandteil der Orientierungsprüfung sind, nur einmal jährlich angeboten werden. (3) 1Ist die Bachelorprüfung bis zum Ende des Prüfungszeitraums des neunten Fachsemesters einschließlich etwaiger Wiederholungen nicht vollständig abgelegt, so erlischt der Prüfungsanspruch im Bachelorstudiengang Informatik, es sei denn, dass die Fristüberschreitung nicht selbst zu vertreten ist. 2Die Entscheidung über eine Fristverlängerung und über Ausnahmen von der Fristregelung trifft der Prüfungsausschuss unter Beachtung der in § 32 Abs. 6 LHG genannten Tätigkeiten auf Antrag des/der Studierenden. 3Der Antrag ist schriftlich in der Regel bis sechs Wochen vor Ablauf der in Satz 1 genannten Studienhöchstdauer zu stellen. 4Absatz 2 Satz 3 bis 5 gelten entsprechend. (4) 1Der Prüfungsanspruchwerden, wenn mehr als 50 Prozent des Hochschulstudiums ersetzt werden soll.  (6) 1Zuständig für Anerkennung und Anrechnung ist der Prüfungsausschuss. 2Im Rahmen der Feststellung, ob ein wesentlicher Unterschied im Sinne des Absatz 1 vorliegt, sind die zuständigen Fachvertreter/innen zu hören. 3Der Prüfungsausschuss entscheidet in Abhängigkeit von Art und Umfang der anzurechnenden Studien- und Prüfungsleistungen über die Einstufung in ein höheres Fachsemester.  II. Bachelorprüfung  § 20 Umfang und Art der Bachelorprüfung (1) 1Die Bachelorprüfung besteht aus den Modulprüfungen nach Absatz 2 sowie dem Modul Bachelorarbeit (§ 14).  (2) 1Es sind Modulprüfungen in folgenden Pflichtfächern abzulegen: 1. Fach Theoretische Informatik: Modul(e) im Umfang von 18 LP, 2. Fach Praktische Informatik: Modul(e) im Umfang von 48 LP, 3. Fach Technische Informatik: Modul(e) im Umfang von 12 LP, 4. Fach Mathematik: Modul(e) im Umfang von 38 bis 45 LP, 5. Wahlbereich Informatik: Modul(e) im Umfang von 15Absatz 2 Satz 2 ist nach einer Frist von fünf Jahren ab dem Datum des Zeugnisses ausgeschlossen. (6) 1Die Aberkennung des akademischen Grades richtet sich nach § 36 Abs. 7 LHG.  § 25 Einsicht in die Prüfungsakten (1) 1Nach Abschluss der Bachelorprüfung wird den Studierenden auf Antrag innerhalb eines Jahres Einsicht in das Prüfungsexemplar ihrer Bachelorarbeit, die darauf bezogenen Gutachten und in die Prüfungsprotokolle gewährt. (2) 1Für die Einsichtnahme in die schriftlichen Modulprüfungen, schriftlichen Modulteilprüfungen bzw. Prüfungsprotokolle gilt eine Frist von einem Monat nach Bekanntgabe des Prüfungsergebnisses. (3) 1Der/die Prüfende bestimmt Ort und Zeit der Einsichtnahme. (4) 1Prüfungsunterlagen sind mindestens fünf Jahre aufzubewahren.  § 26 Inkrafttreten, Übergangsvorschriften (1)  1Diese Studien- und Prüfungsordnung tritt am 01. Oktober 2022 in Kraft und gilt für, 1. Studierende, die ihr Studium im Bachelorstudiengang Informatik am KIT im ersten Fachsemester aufnehmen,'}]}]"
      ]
     },
     "execution_count": 119,
     "metadata": {},
     "output_type": "execute_result"
    }
   ],
   "source": [
    "answer_list"
   ]
  },
  {
   "cell_type": "code",
   "execution_count": null,
   "id": "a715a62b",
   "metadata": {},
   "outputs": [],
   "source": []
  },
  {
   "cell_type": "markdown",
   "id": "0027f689",
   "metadata": {},
   "source": [
    "### Testing"
   ]
  },
  {
   "cell_type": "code",
   "execution_count": null,
   "id": "4d1f7ced",
   "metadata": {},
   "outputs": [],
   "source": [
    "def get_answer_dict(criteria_set_dict):\n",
    "    criteria_list = criteria_set_dict['criteria_sets'][0]['criteria']\n",
    "    answer_dict_elements = []\n",
    "    for c in criteria_list:\n",
    "        if c[\"subcriteria\"]:\n",
    "            for s in c['subcriteria']:\n",
    "                if s[\"prompt\"]:\n",
    "                    s[\"answer\"]= None\n",
    "                    answer_dict_elements.append()\n",
    "                else:\n",
    "                    raise Exception(f\"Missing prompt for criterion: {c['name']}, subcriterion {s['name']}\")\n",
    "        elif c[\"prompt\"]:\n",
    "            prompts.append(c['prompt']) \n",
    "        else:\n",
    "            raise Exception(f\"Missing prompt for criterion: {c['name']}\")\n",
    "            \n",
    "    return criteria_list, prompts"
   ]
  },
  {
   "cell_type": "code",
   "execution_count": null,
   "id": "a7f1af03",
   "metadata": {},
   "outputs": [],
   "source": [
    "def store_results_with_sources_in_dict(criteria_list, responses):\n",
    "    \n",
    "    # seperate results from original criteria by storing them in a new list\n",
    "    criteria_and_results_list = criteria_list.copy()\n",
    "    for c in criteria_and_results_list:\n",
    "        \n",
    "        # if there are subcriteria, we loop through these and add the responses and source docs\n",
    "        if c[\"subcriteria\"]:\n",
    "            \n",
    "            \n",
    "            for s, r in zip(c['subcriteria'], responses):\n",
    "                s[\"result\"] = r[\"result\"]\n",
    "                s[\"source\"]= combine_doc_strings(r[\"source_documents\"])\n",
    "                \n",
    "        # else we loop through the criteria\n",
    "        elif c[\"prompt\"]:        \n",
    "            c[\"result\"] = r[\"result\"]\n",
    "            \n",
    "                if s[\"prompt\"]:\n",
    "                    prompts.append(s['prompt'])\n",
    "                else:\n",
    "                    raise Exception(f\"Missing prompt for criterion: {c['name']}, subcriterion {s['name']}\")\n",
    "        \n",
    "            prompts.append(c['prompt']) \n",
    "        else:\n",
    "            raise Exception(f\"Missing prompt for criterion: {c['name']}\")\n",
    "        \n",
    "        # expects that subcriteria and response are of the same length\n",
    "        for s, r in zip(c['subcriteria'], responses):\n",
    "            s[\"result\"] = r[\"result\"]\n",
    "            source_str = \"\"\n",
    "            for d in r[\"source_documents\"]:\n",
    "                source_str += d.page_content\n",
    "            s[\"source\"]= source_str"
   ]
  },
  {
   "cell_type": "code",
   "execution_count": null,
   "id": "09f5f856",
   "metadata": {},
   "outputs": [],
   "source": []
  },
  {
   "cell_type": "code",
   "execution_count": null,
   "id": "d3f9b586",
   "metadata": {},
   "outputs": [],
   "source": []
  },
  {
   "cell_type": "code",
   "execution_count": null,
   "id": "bf047f70",
   "metadata": {},
   "outputs": [],
   "source": []
  },
  {
   "cell_type": "code",
   "execution_count": 69,
   "id": "df16764f",
   "metadata": {},
   "outputs": [
    {
     "name": "stdout",
     "output_type": "stream",
     "text": [
      "CRITERIA: [{'name': '§ 3 Studienstruktur und Studiendauer', 'name_short': '§ 3', 'position': 1, 'text': '(1) 1 Im System gestufter Studiengänge ist der Bachelorabschluss der erste berufsqualifizierende Regelabschluss eines Hochschulstudiums; der Masterabschluss stellt einen weiteren berufsqualifizierenden Hochschulabschluss dar. 2Grundständige Studiengänge, die unmittelbar zu einem Masterabschluss führen, sind mit Ausnahme der in Absatz 3 genannten Studiengänge ausgeschlossen. (2) 1Die Regelstudienzeiten für ein Vollzeitstudium betragen sechs, sieben oder acht Semester bei den Bachelorstudiengängen und vier, drei oder zwei Semester bei den Masterstudiengängen. 2 Im Bachelorstudium beträgt die Regelstudienzeit im Vollzeitstudium mindestens drei Jahre. 3Bei konsekutiven Studiengängen beträgt die Gesamtregelstudienzeit im Vollzeitstudium fünf Jahre (zehn Semester). 4Wenn das Landesrecht dies vorsieht, sind kürzere und längere Regelstudienzeiten bei entsprechender studienorganisatorischer Gestaltung ausnahmsweise möglich, um den Studierenden eine individuelle Lernbiografie, insbesondere durch Teilzeit-, Fern-, berufsbegleitendes oder duales Studium sowie berufspraktische Semester, zu ermöglichen. 5Abweichend von Satz 3 können in den künstlerischen Kernfächern an Kunstund Musikhochschulen nach näherer Bestimmung des Landesrechts konsekutive Bachelor- und Masterstudiengänge auch mit einer Gesamtregelstudienzeit von sechs Jahren eingerichtet werden. (3) Theologische Studiengänge, die für das Pfarramt, das Priesteramt und den Beruf der Pastoralreferentin oder des Pastoralreferenten qualifizieren („Theologisches Vollstudium“), müssen nicht gestuft sein und können eine Regelstudienzeit von zehn Semestern aufweisen.', 'text_formatted': '(1) 1 Im System gestufter Studiengänge ist der Bachelorabschluss der erste berufsqualifizierende Regelabschluss eines Hochschulstudiums; der Masterabschluss stellt einen weiteren berufsqualifizierenden Hochschulabschluss dar. 2Grundständige Studiengänge, die unmittelbar zu einem Masterabschluss führen, sind mit Ausnahme der in Absatz 3 genannten Studiengänge ausgeschlossen.  \\n(2) 1Die Regelstudienzeiten für ein Vollzeitstudium betragen sechs, sieben oder acht Semester bei den Bachelorstudiengängen und vier, drei oder zwei Semester bei den Masterstudiengängen. 2 Im Bachelorstudium beträgt die Regelstudienzeit im Vollzeitstudium mindestens drei Jahre. 3Bei konsekutiven Studiengängen beträgt die Gesamtregelstudienzeit im Vollzeitstudium fünf Jahre (zehn Semester). 4Wenn das Landesrecht dies vorsieht, sind kürzere und längere Regelstudienzeiten bei entsprechender studienorganisatorischer Gestaltung ausnahmsweise möglich, um den Studierenden eine individuelle Lernbiografie, insbesondere durch Teilzeit-, Fern-, berufsbegleitendes oder duales Studium sowie berufspraktische Semester, zu ermöglichen. 5Abweichend von Satz 3 können in den künstlerischen Kernfächern an Kunstund Musikhochschulen nach näherer Bestimmung des Landesrechts konsekutive Bachelor- und Masterstudiengänge auch mit einer Gesamtregelstudienzeit von sechs Jahren eingerichtet werden.  \\n(3) Theologische Studiengänge, die für das Pfarramt, das Priesteramt und den Beruf der Pastoralreferentin oder des Pastoralreferenten qualifizieren („Theologisches Vollstudium“), müssen nicht gestuft sein und können eine Regelstudienzeit von zehn Semestern aufweisen.', 'subcriteria': [{'subcriterion_nr': 1, 'name': 'Absatz 1', 'text': '(1) 1 Im System gestufter Studiengänge ist der Bachelorabschluss der erste berufsqualifizierende Regelabschluss eines Hochschulstudiums; der Masterabschluss stellt einen weiteren berufsqualifizierenden Hochschulabschluss dar. 2Grundständige Studiengänge, die unmittelbar zu einem Masterabschluss führen, sind mit Ausnahme der in Absatz 3 genannten Studiengänge ausgeschlossen.', 'prompt': 'blablabla'}, {'subcriterion_nr': 2, 'name': 'Absatz 2', 'text': '(2) 1Die Regelstudienzeiten für ein Vollzeitstudium betragen sechs, sieben oder acht Semester bei den Bachelorstudiengängen und vier, drei oder zwei Semester bei den Masterstudiengängen. 2 Im Bachelorstudium beträgt die Regelstudienzeit im Vollzeitstudium mindestens drei Jahre. 3Bei konsekutiven Studiengängen beträgt die Gesamtregelstudienzeit im Vollzeitstudium fünf Jahre (zehn Semester). 4Wenn das Landesrecht dies vorsieht, sind kürzere und längere Regelstudienzeiten bei entsprechender studienorganisatorischer Gestaltung ausnahmsweise möglich, um den Studierenden eine individuelle Lernbiografie, insbesondere durch Teilzeit-, Fern-, berufsbegleitendes oder duales Studium sowie berufspraktische Semester, zu ermöglichen. 5Abweichend von Satz 3 können in den künstlerischen Kernfächern an Kunstund Musikhochschulen nach näherer Bestimmung des Landesrechts konsekutive Bachelor- und Masterstudiengänge auch mit einer Gesamtregelstudienzeit von sechs Jahren eingerichtet werden.', 'prompt': 'Was ist die Regelstudienzeit für den Studiengang? z.B. 2 Semester, 6 Semester, 7 Semester'}, {'subcriterion_nr': 3, 'name': 'Absatz 3', 'text': '(3) Theologische Studiengänge, die für das Pfarramt, das Priesteramt und den Beruf der Pastoralreferentin oder des Pastoralreferenten qualifizieren („Theologisches Vollstudium“), müssen nicht gestuft sein und können eine Regelstudienzeit von zehn Semestern aufweisen.', 'prompt': \"Handelt es sich um einen theologischen Studiengang? Wenn nein, antworte: 'Da es sich nicht um einen theologischen Studiengang handelt, ist Absatz 3 irrelevant'. Wenn ja, beschreibe inwiefern die Regelstudienzeit die maximale Grenze von 10 Semestern einhält\"}]}]\n",
      "PROMPTS: ['blablabla', 'Was ist die Regelstudienzeit für den Studiengang? z.B. 2 Semester, 6 Semester, 7 Semester', \"Handelt es sich um einen theologischen Studiengang? Wenn nein, antworte: 'Da es sich nicht um einen theologischen Studiengang handelt, ist Absatz 3 irrelevant'. Wenn ja, beschreibe inwiefern die Regelstudienzeit die maximale Grenze von 10 Semestern einhält\"]\n"
     ]
    }
   ],
   "source": [
    "criteria_list, prompts = get_criteria_list_and_prompts(criteria_sets_dict)\n",
    "print(\"CRITERIA:\", criteria_list)\n",
    "print(\"PROMPTS:\", prompts)"
   ]
  },
  {
   "cell_type": "code",
   "execution_count": 70,
   "id": "ad9db2fc",
   "metadata": {},
   "outputs": [
    {
     "data": {
      "text/plain": [
       "[{'query': 'blablabla',\n",
       "  'result': \" I don't know.\",\n",
       "  'source_documents': [Document(page_content='stattfinden. (2) 1Die Bachelorarbeit kann von Hochschullehrer/innen und leitenden Wissenschaftler/innen gemäß § 14 Abs. 3 Ziff. 1 KITG in der Fassung vor Inkrafttreten des 2. KIT-WG vom 04. Februar 2021 sowie habilitierten Mitgliedern der KIT-Fakultät für Informatik vergeben werden. 2Darüber hinaus kann der Prüfungsausschuss weitere Prüfende gemäß § 18 Abs. 2 und 3 zur Vergabe des Themas berechtigen. 3Den Studierenden ist Gelegenheit zu geben, für das Thema Vorschläge zu machen. 4Soll die Bachelorarbeit außerhalb der KIT-Fakultät für Informatik angefertigt werden, so bedarf dies der Genehmigung durch den Prüfungsausschuss. 5Die Bachelorarbeit kann auch in Form einer Gruppenarbeit zugelassen werden, wenn der als Prüfungsleistung zu bewertende Beitrag der/des einzelnen Studierenden aufgrund objektiver Kriterien, die eine eindeutige Abgrenzung ermöglichen, deutlich unterscheidbar ist und die Anforderung nach Absatz 4 erfüllt. 6In Ausnahmefällen sorgt die/der Vorsitzende des', metadata={})]},\n",
       " {'query': 'Was ist die Regelstudienzeit für den Studiengang? z.B. 2 Semester, 6 Semester, 7 Semester',\n",
       "  'result': ' Die Regelstudienzeit beträgt sechs Semester.',\n",
       "  'source_documents': [Document(page_content='haben im Rahmen der dortigen Kapazitäten und Regelungen bis einschließ-lich drittem Fachsemester Zugang zu den Veranstaltungen des MINT-Kollegs Baden-Württemberg (im folgenden MINT-Kolleg). (2) 1Die Regelstudienzeit beträgt sechs Semester.  2Bei einer qualifizierten Teilnahme am MINT-Kolleg bleiben bei der Anrechnung auf die Regelstudienzeit bis zu zwei Semester unberücksichtigt. 3Die konkrete Anzahl der Semester richtet sich nach § 8 Absatz 2 Satz 3 bis 5.  4Eine qualifizierte Teilnahme liegt vor, wenn die Studierenden Veranstaltungen des MINT-Kollegs für die Dauer von mindestens einem Semester im Umfang von mindestens zwei Fachkursen (Gesamtworkload 10 Semesterwochenstunden) belegt hat. 5Das MINT-Kolleg stellt hier-über eine Bescheinigung aus. (3) 1Das Lehrangebot des Studiengangs ist in Fächer, die Fächer sind in Module, die jeweiligen Module in Lehrveranstaltungen gegliedert. 2Die Fächer und ihr Umfang werden in § 20 festgelegt. 3Näheres beschreibt das Modulhandbuch.  (4) 1Der für', metadata={})]},\n",
       " {'query': \"Handelt es sich um einen theologischen Studiengang? Wenn nein, antworte: 'Da es sich nicht um einen theologischen Studiengang handelt, ist Absatz 3 irrelevant'. Wenn ja, beschreibe inwiefern die Regelstudienzeit die maximale Grenze von 10 Semestern einhält\",\n",
       "  'result': ' Nein, es handelt sich nicht um einen theologischen Studiengang. Da es sich nicht um einen theologischen Studiengang handelt, ist Absatz 3 irrelevant.',\n",
       "  'source_documents': [Document(page_content='Studierenden die Frist um ein weiteres Semester verlängern, wenn dies aus studienorganisatorischen Gründen für das fristgerechte Ablegen der Orientierungsprüfung erforderlich ist, insbesondere weil die Module, die Bestandteil der Orientierungsprüfung sind, nur einmal jährlich angeboten werden. (3) 1Ist die Bachelorprüfung bis zum Ende des Prüfungszeitraums des neunten Fachsemesters einschließlich etwaiger Wiederholungen nicht vollständig abgelegt, so erlischt der Prüfungsanspruch im Bachelorstudiengang Informatik, es sei denn, dass die Fristüberschreitung nicht selbst zu vertreten ist. 2Die Entscheidung über eine Fristverlängerung und über Ausnahmen von der Fristregelung trifft der Prüfungsausschuss unter Beachtung der in § 32 Abs. 6 LHG genannten Tätigkeiten auf Antrag des/der Studierenden. 3Der Antrag ist schriftlich in der Regel bis sechs Wochen vor Ablauf der in Satz 1 genannten Studienhöchstdauer zu stellen. 4Absatz 2 Satz 3 bis 5 gelten entsprechend. (4) 1Der Prüfungsanspruch', metadata={})]}]"
      ]
     },
     "execution_count": 70,
     "metadata": {},
     "output_type": "execute_result"
    }
   ],
   "source": [
    "responses = get_llm_responses_with_sources(retrieval_chain, prompts)\n",
    "responses"
   ]
  },
  {
   "cell_type": "code",
   "execution_count": 77,
   "id": "4e3d6f2d",
   "metadata": {},
   "outputs": [
    {
     "data": {
      "text/plain": [
       "[{'name': '§ 3 Studienstruktur und Studiendauer',\n",
       "  'name_short': '§ 3',\n",
       "  'position': 1,\n",
       "  'text': '(1) 1 Im System gestufter Studiengänge ist der Bachelorabschluss der erste berufsqualifizierende Regelabschluss eines Hochschulstudiums; der Masterabschluss stellt einen weiteren berufsqualifizierenden Hochschulabschluss dar. 2Grundständige Studiengänge, die unmittelbar zu einem Masterabschluss führen, sind mit Ausnahme der in Absatz 3 genannten Studiengänge ausgeschlossen. (2) 1Die Regelstudienzeiten für ein Vollzeitstudium betragen sechs, sieben oder acht Semester bei den Bachelorstudiengängen und vier, drei oder zwei Semester bei den Masterstudiengängen. 2 Im Bachelorstudium beträgt die Regelstudienzeit im Vollzeitstudium mindestens drei Jahre. 3Bei konsekutiven Studiengängen beträgt die Gesamtregelstudienzeit im Vollzeitstudium fünf Jahre (zehn Semester). 4Wenn das Landesrecht dies vorsieht, sind kürzere und längere Regelstudienzeiten bei entsprechender studienorganisatorischer Gestaltung ausnahmsweise möglich, um den Studierenden eine individuelle Lernbiografie, insbesondere durch Teilzeit-, Fern-, berufsbegleitendes oder duales Studium sowie berufspraktische Semester, zu ermöglichen. 5Abweichend von Satz 3 können in den künstlerischen Kernfächern an Kunstund Musikhochschulen nach näherer Bestimmung des Landesrechts konsekutive Bachelor- und Masterstudiengänge auch mit einer Gesamtregelstudienzeit von sechs Jahren eingerichtet werden. (3) Theologische Studiengänge, die für das Pfarramt, das Priesteramt und den Beruf der Pastoralreferentin oder des Pastoralreferenten qualifizieren („Theologisches Vollstudium“), müssen nicht gestuft sein und können eine Regelstudienzeit von zehn Semestern aufweisen.',\n",
       "  'text_formatted': '(1) 1 Im System gestufter Studiengänge ist der Bachelorabschluss der erste berufsqualifizierende Regelabschluss eines Hochschulstudiums; der Masterabschluss stellt einen weiteren berufsqualifizierenden Hochschulabschluss dar. 2Grundständige Studiengänge, die unmittelbar zu einem Masterabschluss führen, sind mit Ausnahme der in Absatz 3 genannten Studiengänge ausgeschlossen.  \\n(2) 1Die Regelstudienzeiten für ein Vollzeitstudium betragen sechs, sieben oder acht Semester bei den Bachelorstudiengängen und vier, drei oder zwei Semester bei den Masterstudiengängen. 2 Im Bachelorstudium beträgt die Regelstudienzeit im Vollzeitstudium mindestens drei Jahre. 3Bei konsekutiven Studiengängen beträgt die Gesamtregelstudienzeit im Vollzeitstudium fünf Jahre (zehn Semester). 4Wenn das Landesrecht dies vorsieht, sind kürzere und längere Regelstudienzeiten bei entsprechender studienorganisatorischer Gestaltung ausnahmsweise möglich, um den Studierenden eine individuelle Lernbiografie, insbesondere durch Teilzeit-, Fern-, berufsbegleitendes oder duales Studium sowie berufspraktische Semester, zu ermöglichen. 5Abweichend von Satz 3 können in den künstlerischen Kernfächern an Kunstund Musikhochschulen nach näherer Bestimmung des Landesrechts konsekutive Bachelor- und Masterstudiengänge auch mit einer Gesamtregelstudienzeit von sechs Jahren eingerichtet werden.  \\n(3) Theologische Studiengänge, die für das Pfarramt, das Priesteramt und den Beruf der Pastoralreferentin oder des Pastoralreferenten qualifizieren („Theologisches Vollstudium“), müssen nicht gestuft sein und können eine Regelstudienzeit von zehn Semestern aufweisen.',\n",
       "  'subcriteria': [{'subcriterion_nr': 1,\n",
       "    'name': 'Absatz 1',\n",
       "    'text': '(1) 1 Im System gestufter Studiengänge ist der Bachelorabschluss der erste berufsqualifizierende Regelabschluss eines Hochschulstudiums; der Masterabschluss stellt einen weiteren berufsqualifizierenden Hochschulabschluss dar. 2Grundständige Studiengänge, die unmittelbar zu einem Masterabschluss führen, sind mit Ausnahme der in Absatz 3 genannten Studiengänge ausgeschlossen.',\n",
       "    'prompt': 'blablabla'},\n",
       "   {'subcriterion_nr': 2,\n",
       "    'name': 'Absatz 2',\n",
       "    'text': '(2) 1Die Regelstudienzeiten für ein Vollzeitstudium betragen sechs, sieben oder acht Semester bei den Bachelorstudiengängen und vier, drei oder zwei Semester bei den Masterstudiengängen. 2 Im Bachelorstudium beträgt die Regelstudienzeit im Vollzeitstudium mindestens drei Jahre. 3Bei konsekutiven Studiengängen beträgt die Gesamtregelstudienzeit im Vollzeitstudium fünf Jahre (zehn Semester). 4Wenn das Landesrecht dies vorsieht, sind kürzere und längere Regelstudienzeiten bei entsprechender studienorganisatorischer Gestaltung ausnahmsweise möglich, um den Studierenden eine individuelle Lernbiografie, insbesondere durch Teilzeit-, Fern-, berufsbegleitendes oder duales Studium sowie berufspraktische Semester, zu ermöglichen. 5Abweichend von Satz 3 können in den künstlerischen Kernfächern an Kunstund Musikhochschulen nach näherer Bestimmung des Landesrechts konsekutive Bachelor- und Masterstudiengänge auch mit einer Gesamtregelstudienzeit von sechs Jahren eingerichtet werden.',\n",
       "    'prompt': 'Was ist die Regelstudienzeit für den Studiengang? z.B. 2 Semester, 6 Semester, 7 Semester'},\n",
       "   {'subcriterion_nr': 3,\n",
       "    'name': 'Absatz 3',\n",
       "    'text': '(3) Theologische Studiengänge, die für das Pfarramt, das Priesteramt und den Beruf der Pastoralreferentin oder des Pastoralreferenten qualifizieren („Theologisches Vollstudium“), müssen nicht gestuft sein und können eine Regelstudienzeit von zehn Semestern aufweisen.',\n",
       "    'prompt': \"Handelt es sich um einen theologischen Studiengang? Wenn nein, antworte: 'Da es sich nicht um einen theologischen Studiengang handelt, ist Absatz 3 irrelevant'. Wenn ja, beschreibe inwiefern die Regelstudienzeit die maximale Grenze von 10 Semestern einhält\"}]}]"
      ]
     },
     "execution_count": 77,
     "metadata": {},
     "output_type": "execute_result"
    }
   ],
   "source": [
    "criteria"
   ]
  },
  {
   "cell_type": "code",
   "execution_count": 87,
   "id": "25122c40",
   "metadata": {},
   "outputs": [
    {
     "name": "stdout",
     "output_type": "stream",
     "text": [
      "1 a\n",
      "2 b\n",
      "3 c\n",
      "4 d\n",
      "5 e\n",
      "6 f\n",
      "7 g\n"
     ]
    }
   ],
   "source": [
    "crit_list = [1, 2, 3, 4, 5, 6, 7, 8, 9]\n",
    "answer_list = [\"a\", \"b\", \"c\", \"d\", \"e\", \"f\", \"g\"]\n",
    "for c, a in zip(crit_list, answer_list):\n",
    "    print(c, a)"
   ]
  },
  {
   "cell_type": "code",
   "execution_count": 88,
   "id": "df31d443",
   "metadata": {},
   "outputs": [],
   "source": [
    "criteria_and_response_list = criteria.copy()\n",
    "for "
   ]
  },
  {
   "cell_type": "code",
   "execution_count": null,
   "id": "08fe0232",
   "metadata": {},
   "outputs": [],
   "source": [
    "#     # if there are subcriteria, we loop through these and add the responses and source docs\n",
    "#     if c[\"subcriteria\"]:\n",
    "\n",
    "\n",
    "#         for s, r in zip(c['subcriteria'], responses):\n",
    "#             s[\"result\"] = r[\"result\"]\n",
    "#             s[\"source\"]= combine_doc_strings(r[\"source_documents\"])\n",
    "\n",
    "#     # else we loop through the criteria\n",
    "#     elif c[\"prompt\"]:        \n",
    "#         c[\"result\"] = r[\"result\"]\n",
    "\n",
    "#             if s[\"prompt\"]:\n",
    "#                 prompts.append(s['prompt'])\n",
    "#             else:\n",
    "#                 raise Exception(f\"Missing prompt for criterion: {c['name']}, subcriterion {s['name']}\")\n",
    "\n",
    "#         prompts.append(c['prompt']) \n",
    "#     else:\n",
    "#         raise Exception(f\"Missing prompt for criterion: {c['name']}\")\n",
    "\n",
    "#     # expects that subcriteria and response are of the same length\n",
    "#     for s, r in zip(c['subcriteria'], responses):\n",
    "#         s[\"result\"] = r[\"result\"]\n",
    "#         source_str = \"\"\n",
    "#         for d in r[\"source_documents\"]:\n",
    "#             source_str += d.page_content\n",
    "#         s[\"source\"]= source_str"
   ]
  },
  {
   "cell_type": "code",
   "execution_count": 80,
   "id": "3791231d",
   "metadata": {},
   "outputs": [
    {
     "data": {
      "text/plain": [
       "[{'query': 'blablabla',\n",
       "  'result': \" I don't know.\",\n",
       "  'source_documents': [Document(page_content='stattfinden. (2) 1Die Bachelorarbeit kann von Hochschullehrer/innen und leitenden Wissenschaftler/innen gemäß § 14 Abs. 3 Ziff. 1 KITG in der Fassung vor Inkrafttreten des 2. KIT-WG vom 04. Februar 2021 sowie habilitierten Mitgliedern der KIT-Fakultät für Informatik vergeben werden. 2Darüber hinaus kann der Prüfungsausschuss weitere Prüfende gemäß § 18 Abs. 2 und 3 zur Vergabe des Themas berechtigen. 3Den Studierenden ist Gelegenheit zu geben, für das Thema Vorschläge zu machen. 4Soll die Bachelorarbeit außerhalb der KIT-Fakultät für Informatik angefertigt werden, so bedarf dies der Genehmigung durch den Prüfungsausschuss. 5Die Bachelorarbeit kann auch in Form einer Gruppenarbeit zugelassen werden, wenn der als Prüfungsleistung zu bewertende Beitrag der/des einzelnen Studierenden aufgrund objektiver Kriterien, die eine eindeutige Abgrenzung ermöglichen, deutlich unterscheidbar ist und die Anforderung nach Absatz 4 erfüllt. 6In Ausnahmefällen sorgt die/der Vorsitzende des', metadata={})]},\n",
       " {'query': 'Was ist die Regelstudienzeit für den Studiengang? z.B. 2 Semester, 6 Semester, 7 Semester',\n",
       "  'result': ' Die Regelstudienzeit beträgt sechs Semester.',\n",
       "  'source_documents': [Document(page_content='haben im Rahmen der dortigen Kapazitäten und Regelungen bis einschließ-lich drittem Fachsemester Zugang zu den Veranstaltungen des MINT-Kollegs Baden-Württemberg (im folgenden MINT-Kolleg). (2) 1Die Regelstudienzeit beträgt sechs Semester.  2Bei einer qualifizierten Teilnahme am MINT-Kolleg bleiben bei der Anrechnung auf die Regelstudienzeit bis zu zwei Semester unberücksichtigt. 3Die konkrete Anzahl der Semester richtet sich nach § 8 Absatz 2 Satz 3 bis 5.  4Eine qualifizierte Teilnahme liegt vor, wenn die Studierenden Veranstaltungen des MINT-Kollegs für die Dauer von mindestens einem Semester im Umfang von mindestens zwei Fachkursen (Gesamtworkload 10 Semesterwochenstunden) belegt hat. 5Das MINT-Kolleg stellt hier-über eine Bescheinigung aus. (3) 1Das Lehrangebot des Studiengangs ist in Fächer, die Fächer sind in Module, die jeweiligen Module in Lehrveranstaltungen gegliedert. 2Die Fächer und ihr Umfang werden in § 20 festgelegt. 3Näheres beschreibt das Modulhandbuch.  (4) 1Der für', metadata={})]},\n",
       " {'query': \"Handelt es sich um einen theologischen Studiengang? Wenn nein, antworte: 'Da es sich nicht um einen theologischen Studiengang handelt, ist Absatz 3 irrelevant'. Wenn ja, beschreibe inwiefern die Regelstudienzeit die maximale Grenze von 10 Semestern einhält\",\n",
       "  'result': ' Nein, es handelt sich nicht um einen theologischen Studiengang. Da es sich nicht um einen theologischen Studiengang handelt, ist Absatz 3 irrelevant.',\n",
       "  'source_documents': [Document(page_content='Studierenden die Frist um ein weiteres Semester verlängern, wenn dies aus studienorganisatorischen Gründen für das fristgerechte Ablegen der Orientierungsprüfung erforderlich ist, insbesondere weil die Module, die Bestandteil der Orientierungsprüfung sind, nur einmal jährlich angeboten werden. (3) 1Ist die Bachelorprüfung bis zum Ende des Prüfungszeitraums des neunten Fachsemesters einschließlich etwaiger Wiederholungen nicht vollständig abgelegt, so erlischt der Prüfungsanspruch im Bachelorstudiengang Informatik, es sei denn, dass die Fristüberschreitung nicht selbst zu vertreten ist. 2Die Entscheidung über eine Fristverlängerung und über Ausnahmen von der Fristregelung trifft der Prüfungsausschuss unter Beachtung der in § 32 Abs. 6 LHG genannten Tätigkeiten auf Antrag des/der Studierenden. 3Der Antrag ist schriftlich in der Regel bis sechs Wochen vor Ablauf der in Satz 1 genannten Studienhöchstdauer zu stellen. 4Absatz 2 Satz 3 bis 5 gelten entsprechend. (4) 1Der Prüfungsanspruch', metadata={})]}]"
      ]
     },
     "execution_count": 80,
     "metadata": {},
     "output_type": "execute_result"
    }
   ],
   "source": []
  },
  {
   "cell_type": "code",
   "execution_count": null,
   "id": "7034762e",
   "metadata": {},
   "outputs": [],
   "source": []
  }
 ],
 "metadata": {
  "kernelspec": {
   "display_name": "Python 3 (ipykernel)",
   "language": "python",
   "name": "python3"
  },
  "language_info": {
   "codemirror_mode": {
    "name": "ipython",
    "version": 3
   },
   "file_extension": ".py",
   "mimetype": "text/x-python",
   "name": "python",
   "nbconvert_exporter": "python",
   "pygments_lexer": "ipython3",
   "version": "3.9.7"
  }
 },
 "nbformat": 4,
 "nbformat_minor": 5
}
